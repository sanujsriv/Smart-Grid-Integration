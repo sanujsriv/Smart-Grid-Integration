{
 "cells": [
  {
   "cell_type": "code",
   "execution_count": 24,
   "metadata": {},
   "outputs": [],
   "source": [
    "import os\n",
    "os.environ[\"JAVA_HOME\"] = \"/dbr1/hctl/spark_essentials/jdk1.8.0_251/\"\n",
    "os.environ[\"SPARK_HOME\"] = \"/usr/local/spark-2.4.0-bin-hadoop2.7/\""
   ]
  },
  {
   "cell_type": "code",
   "execution_count": 25,
   "metadata": {},
   "outputs": [],
   "source": [
    "import findspark\n",
    "findspark.init()\n",
    "\n",
    "\n",
    "from pyspark_iforest.ml.iforest import *\n",
    "from decimal import Decimal\n",
    "from pyspark.ml.linalg import Vectors\n",
    "import tempfile\n",
    "import pandas as pd\n",
    "from pyspark.sql.functions import to_timestamp,to_date\n",
    "from datetime import datetime\n",
    "import time\n",
    "from pyspark.sql import SQLContext,SparkSession"
   ]
  },
  {
   "cell_type": "code",
   "execution_count": 26,
   "metadata": {},
   "outputs": [
    {
     "name": "stdout",
     "output_type": "stream",
     "text": [
      "Spark Version -  2.4.0\n",
      "db connected successfully\n"
     ]
    }
   ],
   "source": [
    "spark = SparkSession.builder.master(\"local[*]\") \\\n",
    "        .appName(\"IForestExample\") \\\n",
    "        .config(\"spark.jars\", \"/dbr1/hctl/spark_essentials/mysql-connector-java-5.1.49.jar,/dbr1/hctl/spark_essentials/spark-iforest-2.4.0.jar\") \\\n",
    "        .getOrCreate()\n",
    "\n",
    "# spark = SparkSession.builder.master(\"local[*]\").config(\"spark.jars\", \"/dbr1/hctl/spark_essentials/mysql-connector-java-5.1.49.jar,/dbr1/hctl/spark_essentials/spark-iforest-2.4.0.jar\").getOrCreate()\n",
    "\n",
    "sqlContext = SQLContext(spark.sparkContext)\n",
    "\n",
    "print(\"Spark Version - \", spark.version)\n",
    "\n",
    "hostname = \"dbclass.cs.nmsu.edu\" \n",
    "dbname = \"nmsu_power\"\n",
    "jdbcPort = 3306\n",
    "username = \"sakumar\"\n",
    "password = \"dbnmsu123\"\n",
    "jdbc_url = \"jdbc:mysql://{0}:{1}/{2}?user={3}&password={4}\".format(hostname,jdbcPort, dbname,username,password)\n",
    "\n",
    "query = \"\"\"\n",
    "( SELECT * FROM (SELECT * FROM power ORDER BY Date DESC, TIME DESC LIMIT 100 ) sub ORDER BY Date ASC, TIME ASC )\n",
    "whyalias\n",
    "\"\"\"\n",
    "\n",
    "df_origin = sqlContext.read.format('jdbc').options(driver='com.mysql.jdbc.Driver',url=jdbc_url, dbtable=query ).load()\n",
    "#df_origin.show()\n",
    "print(\"db connected successfully\")"
   ]
  },
  {
   "cell_type": "code",
   "execution_count": 27,
   "metadata": {},
   "outputs": [
    {
     "name": "stdout",
     "output_type": "stream",
     "text": [
      "converted data successfully\n"
     ]
    }
   ],
   "source": [
    "###### Data Conversion ########\n",
    "\n",
    "date=df_origin.select(to_date(df_origin['Date'], 'dd/MM/yyyy').alias('date')).collect()\n",
    "time=df_origin.select(to_timestamp(df_origin['Time'], 'yyyy-MM-dd HH:mm:ss').alias('time')).collect()\n",
    "\n",
    "date_list=[]\n",
    "time_list=[]\n",
    "date_time_list=[]\n",
    "\n",
    "for da in date:\n",
    "  row_list=[]\n",
    "  for d in da:\n",
    "    row_list.append(d)\n",
    "  date_list.append(row_list)\n",
    "\n",
    "for ti in time:\n",
    "  row_list=[]\n",
    "  for t in ti:\n",
    "    row_list.append(t.time())\n",
    "  time_list.append(row_list)\n",
    "\n",
    "for i in range(len(time_list)):\n",
    "  date_time_list.append(datetime.combine(date_list[i][0],time_list[i][0]))\n",
    "\n",
    "# last=100\n",
    "# date_time_list = date_time_list[-last:]\n",
    "\n",
    "columns_to_drop=[\"Date\",\"Time\"]\n",
    "df1=df_origin.drop(*columns_to_drop)\n",
    "\n",
    "a=[column for column in df1.columns]\n",
    "g=df1.select(a).collect()\n",
    "\n",
    "# record_count=df1.count()\n",
    "# print(record_count)\n",
    "\n",
    "size=0\n",
    "a=[]\n",
    "for row in g:\n",
    "    row_data = []\n",
    "    for data in row:\n",
    "        if type(data) == Decimal:\n",
    "            row_data.append(float(data))\n",
    "        elif type(data) == float:\n",
    "            row_data.append(float(data))\n",
    "    a.append(row_data)\n",
    "\n",
    "# a=a[-last:]\n",
    "a=[[i / sum(j) for i in j] for j in a]\n",
    "data = [(Vectors.dense(i),) for i in a]\n",
    "\n",
    "\n",
    "\n",
    "print(\"converted data successfully\")"
   ]
  },
  {
   "cell_type": "code",
   "execution_count": 28,
   "metadata": {},
   "outputs": [
    {
     "name": "stdout",
     "output_type": "stream",
     "text": [
      "init iforest\n",
      "fit iforest\n",
      "+--------------------+-------------------+----------+\n",
      "|            features|       anomalyScore|prediction|\n",
      "+--------------------+-------------------+----------+\n",
      "|[0.00153857307416...| 0.4521409580521276|       0.0|\n",
      "|[0.00147175911404...|0.45686006135480717|       0.0|\n",
      "|[0.00161678236178...|0.48982579231665513|       0.0|\n",
      "|[0.00174791378032...|0.44126337333284554|       0.0|\n",
      "|[0.00165295887662...| 0.4841413167942809|       0.0|\n",
      "|[0.00132304120908...|0.48109467443269943|       0.0|\n",
      "|[0.00138328159431...| 0.5258508026020275|       0.0|\n",
      "|[0.00135699458009...|0.48228987029829007|       0.0|\n",
      "|[0.00168139232218...| 0.4487327856076416|       0.0|\n",
      "|[0.00160364347798...|0.47823542953143455|       0.0|\n",
      "|[0.00169001842924...|0.44079701251475945|       0.0|\n",
      "|[0.00161728971210...|0.48998409486369565|       0.0|\n",
      "|[0.00170402938646...| 0.4403135218925395|       0.0|\n",
      "|[0.00163566388710...|0.47605053145397686|       0.0|\n",
      "|[0.00174207597386...| 0.4482558967848339|       0.0|\n",
      "|[0.00166573236165...|0.47621233401653285|       0.0|\n",
      "|[0.00173224052480...|0.47738136073717236|       0.0|\n",
      "|[0.00167792035147...|0.46304955528846853|       0.0|\n",
      "|[0.00160038409218...|0.49086608933056003|       0.0|\n",
      "|[0.00172282543371...| 0.4462804509390951|       0.0|\n",
      "+--------------------+-------------------+----------+\n",
      "only showing top 20 rows\n",
      "\n"
     ]
    }
   ],
   "source": [
    "##########################\n",
    "\n",
    "# Spark-iForest  \n",
    "\n",
    "##########################\n",
    "\n",
    "# NOTE: features need to be dense vectors for the model input\n",
    "\n",
    "df = spark.createDataFrame(data, [\"features\"])\n",
    "\n",
    "# Init an IForest Object\n",
    "iforest = IForest(contamination=0.1,maxDepth=4)\n",
    "print(\"init iforest\")\n",
    "# Fit on a given data frame\n",
    "model = iforest.fit(df)\n",
    "print(\"fit iforest\")\n",
    "# Check if the model has summary or not, the newly trained model has the summary info\n",
    "model.hasSummary\n",
    "\n",
    "# Show model summary\n",
    "summary = model.summary\n",
    "\n",
    "# Show the number of anomalies\n",
    "summary.numAnomalies\n",
    "\n",
    "# Predict for a new data frame based on the fitted model\n",
    "transformed = model.transform(df)\n",
    "\n",
    "# Collect spark data frame into local df\n",
    "rows = transformed.collect()\n",
    "\n",
    "temp_path = tempfile.mkdtemp()\n",
    "iforest_path = temp_path + \"/iforest\"\n",
    "\n",
    "# Save the iforest estimator into the path\n",
    "iforest.save(iforest_path)\n",
    "\n",
    "# Load iforest estimator from a path\n",
    "loaded_iforest = IForest.load(iforest_path)\n",
    "\n",
    "model_path = temp_path + \"/iforest_model\"\n",
    "\n",
    "# Save the fitted model into the model path\n",
    "model.save(model_path)\n",
    "\n",
    "# Load a fitted model from a model path\n",
    "loaded_model = IForestModel.load(model_path)\n",
    "\n",
    "# The loaded model has no summary info\n",
    "loaded_model.hasSummary\n",
    "\n",
    "# Use the loaded model to predict a new data frame\n",
    "new_df=loaded_model.transform(df)\n",
    "new_df.show()"
   ]
  },
  {
   "cell_type": "code",
   "execution_count": 29,
   "metadata": {},
   "outputs": [
    {
     "name": "stdout",
     "output_type": "stream",
     "text": [
      "Percentage of anomalies in data: 10.00\n"
     ]
    }
   ],
   "source": [
    "columns_to_drop=[\"Date\",\"Time\"]\n",
    "df1=df_origin.drop(*columns_to_drop)\n",
    "\n",
    "predictions=new_df.select('prediction').collect()\n",
    "anomalyScores = new_df.select('anomalyScore').collect()\n",
    "\n",
    "anomalyScores_list=[]\n",
    "for an in anomalyScores:\n",
    "  row_list=[]\n",
    "  for a in an:\n",
    "    row_list.append(a)\n",
    "  anomalyScores_list.append(row_list)\n",
    "anomalyScores_list = [item for sublist in anomalyScores_list for item in sublist]\n",
    "\n",
    "\n",
    "plist=[]\n",
    "for an in predictions:\n",
    "  row_list=[]\n",
    "  for a in an:\n",
    "    row_list.append(a)\n",
    "  plist.append(row_list)\n",
    "plist = [item for sublist in plist for item in sublist]\n",
    "\n",
    "# print(plist)\n",
    "\n",
    "# print(date_time_list)\n",
    "# print(anomalyScores_list)\n",
    "\n",
    "anomaly_date=[]\n",
    "for i,j in zip(plist,date_time_list):\n",
    "  if(i==1.0):\n",
    "    anomaly_date.append(j)\n",
    "\n",
    "# print(anomaly_date)\n",
    "\n",
    "pred_1=new_df.filter(new_df['prediction']==1.0).select(new_df['anomalyScore']).collect()\n",
    "\n",
    "pred_list=[]\n",
    "for an in pred_1:\n",
    "  row_list=[]\n",
    "  for a in an:\n",
    "    row_list.append(a)\n",
    "  pred_list.append(row_list)\n",
    "pred_list = [item for sublist in pred_list for item in sublist]\n",
    "\n",
    "# print(pred_list)\n",
    "# print(anomalyScores_list)\n",
    "\n",
    "print(\"Percentage of anomalies in data: {:.2f}\".format( (len(pred_list) / len(plist) )*100))"
   ]
  },
  {
   "cell_type": "code",
   "execution_count": 30,
   "metadata": {},
   "outputs": [
    {
     "data": {
      "text/plain": [
       "array([[<matplotlib.axes._subplots.AxesSubplot object at 0x7f7cb03870b8>]],\n",
       "      dtype=object)"
      ]
     },
     "execution_count": 30,
     "metadata": {},
     "output_type": "execute_result"
    },
    {
     "data": {
      "image/png": "[encoded data removed]",
      "text/plain": [
       "<Figure size 432x288 with 1 Axes>"
      ]
     },
     "metadata": {
      "needs_background": "light"
     },
     "output_type": "display_data"
    },
    {
     "data": {
      "image/png": "[encoded data removed]",
      "text/plain": [
       "<Figure size 432x288 with 1 Axes>"
      ]
     },
     "metadata": {
      "needs_background": "light"
     },
     "output_type": "display_data"
    }
   ],
   "source": [
    "#### Histogram ########\n",
    "\n",
    "\n",
    "pandas_df=new_df.toPandas()\n",
    "\n",
    "pandas_df.hist(column='anomalyScore')\n",
    "pandas_df.hist(column='prediction')"
   ]
  },
  {
   "cell_type": "code",
   "execution_count": 31,
   "metadata": {},
   "outputs": [
    {
     "data": {
      "application/vnd.plotly.v1+json": {
       "config": {
        "plotlyServerURL": "https://plot.ly"
       },
       "data": [
        {
         "name": "Data",
         "showlegend": true,
         "type": "scatter",
         "x": [
          "2010-09-09T23:59:00",
          "2010-09-09T23:58:00",
          "2010-09-09T23:57:00",
          "2010-09-09T23:56:00",
          "2010-09-09T23:55:00",
          "2010-09-09T23:54:00",
          "2010-09-09T23:53:00",
          "2010-09-09T23:52:00",
          "2010-09-09T23:51:00",
          "2010-09-09T23:50:00",
          "2010-09-09T23:49:00",
          "2010-09-09T23:48:00",
          "2010-09-09T23:47:00",
          "2010-09-09T23:46:00",
          "2010-09-09T23:45:00",
          "2010-09-09T23:44:00",
          "2010-09-09T23:43:00",
          "2010-09-09T23:42:00",
          "2010-09-09T23:41:00",
          "2010-09-09T23:40:00",
          "2010-09-09T23:39:00",
          "2010-09-09T23:38:00",
          "2010-09-09T23:37:00",
          "2010-09-09T23:36:00",
          "2010-09-09T23:35:00",
          "2010-09-09T23:34:00",
          "2010-09-09T23:33:00",
          "2010-09-09T23:32:00",
          "2010-09-09T23:31:00",
          "2010-09-09T23:30:00",
          "2010-09-09T23:29:00",
          "2010-09-09T23:28:00",
          "2010-09-09T23:27:00",
          "2010-09-09T23:26:00",
          "2010-09-09T23:25:00",
          "2010-09-09T23:24:00",
          "2010-09-09T23:23:00",
          "2010-09-09T23:22:00",
          "2010-09-09T23:21:00",
          "2010-09-09T23:20:00",
          "2010-09-09T23:19:00",
          "2010-09-09T23:18:00",
          "2010-09-09T23:17:00",
          "2010-09-09T23:16:00",
          "2010-09-09T23:15:00",
          "2010-09-09T23:14:00",
          "2010-09-09T23:13:00",
          "2010-09-09T23:12:00",
          "2010-09-09T23:11:00",
          "2010-09-09T23:10:00",
          "2010-09-09T23:09:00",
          "2010-09-09T23:08:00",
          "2010-09-09T23:07:00",
          "2010-09-09T23:06:00",
          "2010-09-09T23:05:00",
          "2010-09-09T23:04:00",
          "2010-09-09T23:03:00",
          "2010-09-09T23:02:00",
          "2010-09-09T23:01:00",
          "2010-09-09T23:00:00",
          "2010-09-09T22:59:00",
          "2010-09-09T22:58:00",
          "2010-09-09T22:57:00",
          "2010-09-09T22:56:00",
          "2010-09-09T22:55:00",
          "2010-09-09T22:54:00",
          "2010-09-09T22:53:00",
          "2010-09-09T22:52:00",
          "2010-09-09T22:51:00",
          "2010-09-09T22:50:00",
          "2010-09-09T22:49:00",
          "2010-09-09T22:48:00",
          "2010-09-09T22:47:00",
          "2010-09-09T22:46:00",
          "2010-09-09T22:45:00",
          "2010-09-09T22:44:00",
          "2010-09-09T22:43:00",
          "2010-09-09T22:42:00",
          "2010-09-09T22:41:00",
          "2010-09-09T22:40:00",
          "2010-09-09T22:39:00",
          "2010-09-09T22:38:00",
          "2010-09-09T22:37:00",
          "2010-09-09T22:36:00",
          "2010-09-09T22:35:00",
          "2010-09-09T22:34:00",
          "2010-09-09T22:33:00",
          "2010-09-09T22:32:00",
          "2010-09-09T22:31:00",
          "2010-09-09T22:30:00",
          "2010-09-09T22:29:00",
          "2010-09-09T22:28:00",
          "2010-09-09T22:27:00",
          "2010-09-09T22:26:00",
          "2010-09-09T22:25:00",
          "2010-09-09T22:24:00",
          "2010-09-09T22:23:00",
          "2010-09-09T22:22:00",
          "2010-09-09T22:21:00",
          "2010-09-09T22:20:00"
         ],
         "y": [
          0.4521409580521276,
          0.45686006135480717,
          0.48982579231665513,
          0.44126337333284554,
          0.4841413167942809,
          0.48109467443269943,
          0.5258508026020275,
          0.48228987029829007,
          0.4487327856076416,
          0.47823542953143455,
          0.44079701251475945,
          0.48998409486369565,
          0.4403135218925395,
          0.47605053145397686,
          0.4482558967848339,
          0.47621233401653285,
          0.47738136073717236,
          0.46304955528846853,
          0.49086608933056003,
          0.4462804509390951,
          0.49903945145153983,
          0.48444561054163393,
          0.4528703170327415,
          0.48412174422055293,
          0.5024345786249239,
          0.4463358401486721,
          0.4854981466017861,
          0.5041768257237571,
          0.4378916137443181,
          0.4741442383439051,
          0.45400019955394405,
          0.48031139749383284,
          0.561324454069723,
          0.47953930447663057,
          0.5324379889906392,
          0.5466716087673373,
          0.6193165395829728,
          0.7081237565415526,
          0.6468748825976874,
          0.6561560908785483,
          0.649830121589654,
          0.5822371042240249,
          0.4581947061410527,
          0.4717914012794767,
          0.476949105906434,
          0.4381712069410378,
          0.4390441261620784,
          0.45388478571068286,
          0.4379792983717348,
          0.44316823009917355,
          0.4537973876783147,
          0.43722634923214126,
          0.44231996186587413,
          0.45406080756117423,
          0.4557669503613299,
          0.43638929088891437,
          0.4515318918932658,
          0.45778935913178226,
          0.4598080204565084,
          0.5119333565313918,
          0.4615524377929054,
          0.47640067386916835,
          0.5140782055222965,
          0.4717456567350388,
          0.45828070991778336,
          0.48805335919225307,
          0.458380803566016,
          0.46990825813157844,
          0.5092533076582045,
          0.45995772274814795,
          0.4574212741237065,
          0.4759650468931178,
          0.4377969484716715,
          0.43594091128840634,
          0.4563198199411388,
          0.4412041632541114,
          0.4453490329928245,
          0.45640745339094985,
          0.44962651508513213,
          0.44220011861236475,
          0.48029776367670673,
          0.4423727111882978,
          0.4819627911243247,
          0.4604811307093971,
          0.49173364219052995,
          0.5479351408292757,
          0.4903606535183492,
          0.5519201089515062,
          0.49941987857715125,
          0.48388569936095144,
          0.4857169061020544,
          0.49941987857715125,
          0.485819157988452,
          0.5412269893454625,
          0.5017779779633292,
          0.4846354723149454,
          0.485819157988452,
          0.5067861711450926,
          0.5332637697392731,
          0.5333670112561648
         ]
        },
        {
         "marker": {
          "color": "red",
          "line": {
           "color": "red",
           "width": 2
          },
          "size": 11
         },
         "mode": "markers",
         "name": "Anomaly",
         "showlegend": true,
         "type": "scatter",
         "x": [
          "2010-09-09T23:27:00",
          "2010-09-09T23:24:00",
          "2010-09-09T23:23:00",
          "2010-09-09T23:22:00",
          "2010-09-09T23:21:00",
          "2010-09-09T23:20:00",
          "2010-09-09T23:19:00",
          "2010-09-09T23:18:00",
          "2010-09-09T22:34:00",
          "2010-09-09T22:32:00"
         ],
         "y": [
          0.561324454069723,
          0.5466716087673373,
          0.6193165395829728,
          0.7081237565415526,
          0.6468748825976874,
          0.6561560908785483,
          0.649830121589654,
          0.5822371042240249,
          0.5479351408292757,
          0.5519201089515062
         ]
        }
       ],
       "layout": {
        "template": {
         "data": {
          "bar": [
           {
            "error_x": {
             "color": "#2a3f5f"
            },
            "error_y": {
             "color": "#2a3f5f"
            },
            "marker": {
             "line": {
              "color": "#E5ECF6",
              "width": 0.5
             }
            },
            "type": "bar"
           }
          ],
          "barpolar": [
           {
            "marker": {
             "line": {
              "color": "#E5ECF6",
              "width": 0.5
             }
            },
            "type": "barpolar"
           }
          ],
          "carpet": [
           {
            "aaxis": {
             "endlinecolor": "#2a3f5f",
             "gridcolor": "white",
             "linecolor": "white",
             "minorgridcolor": "white",
             "startlinecolor": "#2a3f5f"
            },
            "baxis": {
             "endlinecolor": "#2a3f5f",
             "gridcolor": "white",
             "linecolor": "white",
             "minorgridcolor": "white",
             "startlinecolor": "#2a3f5f"
            },
            "type": "carpet"
           }
          ],
          "choropleth": [
           {
            "colorbar": {
             "outlinewidth": 0,
             "ticks": ""
            },
            "type": "choropleth"
           }
          ],
          "contour": [
           {
            "colorbar": {
             "outlinewidth": 0,
             "ticks": ""
            },
            "colorscale": [
             [
              0,
              "#0d0887"
             ],
             [
              0.1111111111111111,
              "#46039f"
             ],
             [
              0.2222222222222222,
              "#7201a8"
             ],
             [
              0.3333333333333333,
              "#9c179e"
             ],
             [
              0.4444444444444444,
              "#bd3786"
             ],
             [
              0.5555555555555556,
              "#d8576b"
             ],
             [
              0.6666666666666666,
              "#ed7953"
             ],
             [
              0.7777777777777778,
              "#fb9f3a"
             ],
             [
              0.8888888888888888,
              "#fdca26"
             ],
             [
              1,
              "#f0f921"
             ]
            ],
            "type": "contour"
           }
          ],
          "contourcarpet": [
           {
            "colorbar": {
             "outlinewidth": 0,
             "ticks": ""
            },
            "type": "contourcarpet"
           }
          ],
          "heatmap": [
           {
            "colorbar": {
             "outlinewidth": 0,
             "ticks": ""
            },
            "colorscale": [
             [
              0,
              "#0d0887"
             ],
             [
              0.1111111111111111,
              "#46039f"
             ],
             [
              0.2222222222222222,
              "#7201a8"
             ],
             [
              0.3333333333333333,
              "#9c179e"
             ],
             [
              0.4444444444444444,
              "#bd3786"
             ],
             [
              0.5555555555555556,
              "#d8576b"
             ],
             [
              0.6666666666666666,
              "#ed7953"
             ],
             [
              0.7777777777777778,
              "#fb9f3a"
             ],
             [
              0.8888888888888888,
              "#fdca26"
             ],
             [
              1,
              "#f0f921"
             ]
            ],
            "type": "heatmap"
           }
          ],
          "heatmapgl": [
           {
            "colorbar": {
             "outlinewidth": 0,
             "ticks": ""
            },
            "colorscale": [
             [
              0,
              "#0d0887"
             ],
             [
              0.1111111111111111,
              "#46039f"
             ],
             [
              0.2222222222222222,
              "#7201a8"
             ],
             [
              0.3333333333333333,
              "#9c179e"
             ],
             [
              0.4444444444444444,
              "#bd3786"
             ],
             [
              0.5555555555555556,
              "#d8576b"
             ],
             [
              0.6666666666666666,
              "#ed7953"
             ],
             [
              0.7777777777777778,
              "#fb9f3a"
             ],
             [
              0.8888888888888888,
              "#fdca26"
             ],
             [
              1,
              "#f0f921"
             ]
            ],
            "type": "heatmapgl"
           }
          ],
          "histogram": [
           {
            "marker": {
             "colorbar": {
              "outlinewidth": 0,
              "ticks": ""
             }
            },
            "type": "histogram"
           }
          ],
          "histogram2d": [
           {
            "colorbar": {
             "outlinewidth": 0,
             "ticks": ""
            },
            "colorscale": [
             [
              0,
              "#0d0887"
             ],
             [
              0.1111111111111111,
              "#46039f"
             ],
             [
              0.2222222222222222,
              "#7201a8"
             ],
             [
              0.3333333333333333,
              "#9c179e"
             ],
             [
              0.4444444444444444,
              "#bd3786"
             ],
             [
              0.5555555555555556,
              "#d8576b"
             ],
             [
              0.6666666666666666,
              "#ed7953"
             ],
             [
              0.7777777777777778,
              "#fb9f3a"
             ],
             [
              0.8888888888888888,
              "#fdca26"
             ],
             [
              1,
              "#f0f921"
             ]
            ],
            "type": "histogram2d"
           }
          ],
          "histogram2dcontour": [
           {
            "colorbar": {
             "outlinewidth": 0,
             "ticks": ""
            },
            "colorscale": [
             [
              0,
              "#0d0887"
             ],
             [
              0.1111111111111111,
              "#46039f"
             ],
             [
              0.2222222222222222,
              "#7201a8"
             ],
             [
              0.3333333333333333,
              "#9c179e"
             ],
             [
              0.4444444444444444,
              "#bd3786"
             ],
             [
              0.5555555555555556,
              "#d8576b"
             ],
             [
              0.6666666666666666,
              "#ed7953"
             ],
             [
              0.7777777777777778,
              "#fb9f3a"
             ],
             [
              0.8888888888888888,
              "#fdca26"
             ],
             [
              1,
              "#f0f921"
             ]
            ],
            "type": "histogram2dcontour"
           }
          ],
          "mesh3d": [
           {
            "colorbar": {
             "outlinewidth": 0,
             "ticks": ""
            },
            "type": "mesh3d"
           }
          ],
          "parcoords": [
           {
            "line": {
             "colorbar": {
              "outlinewidth": 0,
              "ticks": ""
             }
            },
            "type": "parcoords"
           }
          ],
          "pie": [
           {
            "automargin": true,
            "type": "pie"
           }
          ],
          "scatter": [
           {
            "marker": {
             "colorbar": {
              "outlinewidth": 0,
              "ticks": ""
             }
            },
            "type": "scatter"
           }
          ],
          "scatter3d": [
           {
            "line": {
             "colorbar": {
              "outlinewidth": 0,
              "ticks": ""
             }
            },
            "marker": {
             "colorbar": {
              "outlinewidth": 0,
              "ticks": ""
             }
            },
            "type": "scatter3d"
           }
          ],
          "scattercarpet": [
           {
            "marker": {
             "colorbar": {
              "outlinewidth": 0,
              "ticks": ""
             }
            },
            "type": "scattercarpet"
           }
          ],
          "scattergeo": [
           {
            "marker": {
             "colorbar": {
              "outlinewidth": 0,
              "ticks": ""
             }
            },
            "type": "scattergeo"
           }
          ],
          "scattergl": [
           {
            "marker": {
             "colorbar": {
              "outlinewidth": 0,
              "ticks": ""
             }
            },
            "type": "scattergl"
           }
          ],
          "scattermapbox": [
           {
            "marker": {
             "colorbar": {
              "outlinewidth": 0,
              "ticks": ""
             }
            },
            "type": "scattermapbox"
           }
          ],
          "scatterpolar": [
           {
            "marker": {
             "colorbar": {
              "outlinewidth": 0,
              "ticks": ""
             }
            },
            "type": "scatterpolar"
           }
          ],
          "scatterpolargl": [
           {
            "marker": {
             "colorbar": {
              "outlinewidth": 0,
              "ticks": ""
             }
            },
            "type": "scatterpolargl"
           }
          ],
          "scatterternary": [
           {
            "marker": {
             "colorbar": {
              "outlinewidth": 0,
              "ticks": ""
             }
            },
            "type": "scatterternary"
           }
          ],
          "surface": [
           {
            "colorbar": {
             "outlinewidth": 0,
             "ticks": ""
            },
            "colorscale": [
             [
              0,
              "#0d0887"
             ],
             [
              0.1111111111111111,
              "#46039f"
             ],
             [
              0.2222222222222222,
              "#7201a8"
             ],
             [
              0.3333333333333333,
              "#9c179e"
             ],
             [
              0.4444444444444444,
              "#bd3786"
             ],
             [
              0.5555555555555556,
              "#d8576b"
             ],
             [
              0.6666666666666666,
              "#ed7953"
             ],
             [
              0.7777777777777778,
              "#fb9f3a"
             ],
             [
              0.8888888888888888,
              "#fdca26"
             ],
             [
              1,
              "#f0f921"
             ]
            ],
            "type": "surface"
           }
          ],
          "table": [
           {
            "cells": {
             "fill": {
              "color": "#EBF0F8"
             },
             "line": {
              "color": "white"
             }
            },
            "header": {
             "fill": {
              "color": "#C8D4E3"
             },
             "line": {
              "color": "white"
             }
            },
            "type": "table"
           }
          ]
         },
         "layout": {
          "annotationdefaults": {
           "arrowcolor": "#2a3f5f",
           "arrowhead": 0,
           "arrowwidth": 1
          },
          "coloraxis": {
           "colorbar": {
            "outlinewidth": 0,
            "ticks": ""
           }
          },
          "colorscale": {
           "diverging": [
            [
             0,
             "#8e0152"
            ],
            [
             0.1,
             "#c51b7d"
            ],
            [
             0.2,
             "#de77ae"
            ],
            [
             0.3,
             "#f1b6da"
            ],
            [
             0.4,
             "#fde0ef"
            ],
            [
             0.5,
             "#f7f7f7"
            ],
            [
             0.6,
             "#e6f5d0"
            ],
            [
             0.7,
             "#b8e186"
            ],
            [
             0.8,
             "#7fbc41"
            ],
            [
             0.9,
             "#4d9221"
            ],
            [
             1,
             "#276419"
            ]
           ],
           "sequential": [
            [
             0,
             "#0d0887"
            ],
            [
             0.1111111111111111,
             "#46039f"
            ],
            [
             0.2222222222222222,
             "#7201a8"
            ],
            [
             0.3333333333333333,
             "#9c179e"
            ],
            [
             0.4444444444444444,
             "#bd3786"
            ],
            [
             0.5555555555555556,
             "#d8576b"
            ],
            [
             0.6666666666666666,
             "#ed7953"
            ],
            [
             0.7777777777777778,
             "#fb9f3a"
            ],
            [
             0.8888888888888888,
             "#fdca26"
            ],
            [
             1,
             "#f0f921"
            ]
           ],
           "sequentialminus": [
            [
             0,
             "#0d0887"
            ],
            [
             0.1111111111111111,
             "#46039f"
            ],
            [
             0.2222222222222222,
             "#7201a8"
            ],
            [
             0.3333333333333333,
             "#9c179e"
            ],
            [
             0.4444444444444444,
             "#bd3786"
            ],
            [
             0.5555555555555556,
             "#d8576b"
            ],
            [
             0.6666666666666666,
             "#ed7953"
            ],
            [
             0.7777777777777778,
             "#fb9f3a"
            ],
            [
             0.8888888888888888,
             "#fdca26"
            ],
            [
             1,
             "#f0f921"
            ]
           ]
          },
          "colorway": [
           "#636efa",
           "#EF553B",
           "#00cc96",
           "#ab63fa",
           "#FFA15A",
           "#19d3f3",
           "#FF6692",
           "#B6E880",
           "#FF97FF",
           "#FECB52"
          ],
          "font": {
           "color": "#2a3f5f"
          },
          "geo": {
           "bgcolor": "white",
           "lakecolor": "white",
           "landcolor": "#E5ECF6",
           "showlakes": true,
           "showland": true,
           "subunitcolor": "white"
          },
          "hoverlabel": {
           "align": "left"
          },
          "hovermode": "closest",
          "mapbox": {
           "style": "light"
          },
          "paper_bgcolor": "white",
          "plot_bgcolor": "#E5ECF6",
          "polar": {
           "angularaxis": {
            "gridcolor": "white",
            "linecolor": "white",
            "ticks": ""
           },
           "bgcolor": "#E5ECF6",
           "radialaxis": {
            "gridcolor": "white",
            "linecolor": "white",
            "ticks": ""
           }
          },
          "scene": {
           "xaxis": {
            "backgroundcolor": "#E5ECF6",
            "gridcolor": "white",
            "gridwidth": 2,
            "linecolor": "white",
            "showbackground": true,
            "ticks": "",
            "zerolinecolor": "white"
           },
           "yaxis": {
            "backgroundcolor": "#E5ECF6",
            "gridcolor": "white",
            "gridwidth": 2,
            "linecolor": "white",
            "showbackground": true,
            "ticks": "",
            "zerolinecolor": "white"
           },
           "zaxis": {
            "backgroundcolor": "#E5ECF6",
            "gridcolor": "white",
            "gridwidth": 2,
            "linecolor": "white",
            "showbackground": true,
            "ticks": "",
            "zerolinecolor": "white"
           }
          },
          "shapedefaults": {
           "line": {
            "color": "#2a3f5f"
           }
          },
          "ternary": {
           "aaxis": {
            "gridcolor": "white",
            "linecolor": "white",
            "ticks": ""
           },
           "baxis": {
            "gridcolor": "white",
            "linecolor": "white",
            "ticks": ""
           },
           "bgcolor": "#E5ECF6",
           "caxis": {
            "gridcolor": "white",
            "linecolor": "white",
            "ticks": ""
           }
          },
          "title": {
           "x": 0.05
          },
          "xaxis": {
           "automargin": true,
           "gridcolor": "white",
           "linecolor": "white",
           "ticks": "",
           "title": {
            "standoff": 15
           },
           "zerolinecolor": "white",
           "zerolinewidth": 2
          },
          "yaxis": {
           "automargin": true,
           "gridcolor": "white",
           "linecolor": "white",
           "ticks": "",
           "title": {
            "standoff": 15
           },
           "zerolinecolor": "white",
           "zerolinewidth": 2
          }
         }
        }
       }
      },
      "text/html": [
       "<div>\n",
       "        \n",
       "        \n",
       "            <div id=\"bafc69cc-2491-4765-8337-d9001a4746d6\" class=\"plotly-graph-div\" style=\"height:525px; width:100%;\"></div>\n",
       "            <script type=\"text/javascript\">\n",
       "                require([\"plotly\"], function(Plotly) {\n",
       "                    window.PLOTLYENV=window.PLOTLYENV || {};\n",
       "                    \n",
       "                if (document.getElementById(\"bafc69cc-2491-4765-8337-d9001a4746d6\")) {\n",
       "                    Plotly.newPlot(\n",
       "                        'bafc69cc-2491-4765-8337-d9001a4746d6',\n",
       "                        [{\"name\": \"Data\", \"showlegend\": true, \"type\": \"scatter\", \"x\": [\"2010-09-09T23:59:00\", \"2010-09-09T23:58:00\", \"2010-09-09T23:57:00\", \"2010-09-09T23:56:00\", \"2010-09-09T23:55:00\", \"2010-09-09T23:54:00\", \"2010-09-09T23:53:00\", \"2010-09-09T23:52:00\", \"2010-09-09T23:51:00\", \"2010-09-09T23:50:00\", \"2010-09-09T23:49:00\", \"2010-09-09T23:48:00\", \"2010-09-09T23:47:00\", \"2010-09-09T23:46:00\", \"2010-09-09T23:45:00\", \"2010-09-09T23:44:00\", \"2010-09-09T23:43:00\", \"2010-09-09T23:42:00\", \"2010-09-09T23:41:00\", \"2010-09-09T23:40:00\", \"2010-09-09T23:39:00\", \"2010-09-09T23:38:00\", \"2010-09-09T23:37:00\", \"2010-09-09T23:36:00\", \"2010-09-09T23:35:00\", \"2010-09-09T23:34:00\", \"2010-09-09T23:33:00\", \"2010-09-09T23:32:00\", \"2010-09-09T23:31:00\", \"2010-09-09T23:30:00\", \"2010-09-09T23:29:00\", \"2010-09-09T23:28:00\", \"2010-09-09T23:27:00\", \"2010-09-09T23:26:00\", \"2010-09-09T23:25:00\", \"2010-09-09T23:24:00\", \"2010-09-09T23:23:00\", \"2010-09-09T23:22:00\", \"2010-09-09T23:21:00\", \"2010-09-09T23:20:00\", \"2010-09-09T23:19:00\", \"2010-09-09T23:18:00\", \"2010-09-09T23:17:00\", \"2010-09-09T23:16:00\", \"2010-09-09T23:15:00\", \"2010-09-09T23:14:00\", \"2010-09-09T23:13:00\", \"2010-09-09T23:12:00\", \"2010-09-09T23:11:00\", \"2010-09-09T23:10:00\", \"2010-09-09T23:09:00\", \"2010-09-09T23:08:00\", \"2010-09-09T23:07:00\", \"2010-09-09T23:06:00\", \"2010-09-09T23:05:00\", \"2010-09-09T23:04:00\", \"2010-09-09T23:03:00\", \"2010-09-09T23:02:00\", \"2010-09-09T23:01:00\", \"2010-09-09T23:00:00\", \"2010-09-09T22:59:00\", \"2010-09-09T22:58:00\", \"2010-09-09T22:57:00\", \"2010-09-09T22:56:00\", \"2010-09-09T22:55:00\", \"2010-09-09T22:54:00\", \"2010-09-09T22:53:00\", \"2010-09-09T22:52:00\", \"2010-09-09T22:51:00\", \"2010-09-09T22:50:00\", \"2010-09-09T22:49:00\", \"2010-09-09T22:48:00\", \"2010-09-09T22:47:00\", \"2010-09-09T22:46:00\", \"2010-09-09T22:45:00\", \"2010-09-09T22:44:00\", \"2010-09-09T22:43:00\", \"2010-09-09T22:42:00\", \"2010-09-09T22:41:00\", \"2010-09-09T22:40:00\", \"2010-09-09T22:39:00\", \"2010-09-09T22:38:00\", \"2010-09-09T22:37:00\", \"2010-09-09T22:36:00\", \"2010-09-09T22:35:00\", \"2010-09-09T22:34:00\", \"2010-09-09T22:33:00\", \"2010-09-09T22:32:00\", \"2010-09-09T22:31:00\", \"2010-09-09T22:30:00\", \"2010-09-09T22:29:00\", \"2010-09-09T22:28:00\", \"2010-09-09T22:27:00\", \"2010-09-09T22:26:00\", \"2010-09-09T22:25:00\", \"2010-09-09T22:24:00\", \"2010-09-09T22:23:00\", \"2010-09-09T22:22:00\", \"2010-09-09T22:21:00\", \"2010-09-09T22:20:00\"], \"y\": [0.4521409580521276, 0.45686006135480717, 0.48982579231665513, 0.44126337333284554, 0.4841413167942809, 0.48109467443269943, 0.5258508026020275, 0.48228987029829007, 0.4487327856076416, 0.47823542953143455, 0.44079701251475945, 0.48998409486369565, 0.4403135218925395, 0.47605053145397686, 0.4482558967848339, 0.47621233401653285, 0.47738136073717236, 0.46304955528846853, 0.49086608933056003, 0.4462804509390951, 0.49903945145153983, 0.48444561054163393, 0.4528703170327415, 0.48412174422055293, 0.5024345786249239, 0.4463358401486721, 0.4854981466017861, 0.5041768257237571, 0.4378916137443181, 0.4741442383439051, 0.45400019955394405, 0.48031139749383284, 0.561324454069723, 0.47953930447663057, 0.5324379889906392, 0.5466716087673373, 0.6193165395829728, 0.7081237565415526, 0.6468748825976874, 0.6561560908785483, 0.649830121589654, 0.5822371042240249, 0.4581947061410527, 0.4717914012794767, 0.476949105906434, 0.4381712069410378, 0.4390441261620784, 0.45388478571068286, 0.4379792983717348, 0.44316823009917355, 0.4537973876783147, 0.43722634923214126, 0.44231996186587413, 0.45406080756117423, 0.4557669503613299, 0.43638929088891437, 0.4515318918932658, 0.45778935913178226, 0.4598080204565084, 0.5119333565313918, 0.4615524377929054, 0.47640067386916835, 0.5140782055222965, 0.4717456567350388, 0.45828070991778336, 0.48805335919225307, 0.458380803566016, 0.46990825813157844, 0.5092533076582045, 0.45995772274814795, 0.4574212741237065, 0.4759650468931178, 0.4377969484716715, 0.43594091128840634, 0.4563198199411388, 0.4412041632541114, 0.4453490329928245, 0.45640745339094985, 0.44962651508513213, 0.44220011861236475, 0.48029776367670673, 0.4423727111882978, 0.4819627911243247, 0.4604811307093971, 0.49173364219052995, 0.5479351408292757, 0.4903606535183492, 0.5519201089515062, 0.49941987857715125, 0.48388569936095144, 0.4857169061020544, 0.49941987857715125, 0.485819157988452, 0.5412269893454625, 0.5017779779633292, 0.4846354723149454, 0.485819157988452, 0.5067861711450926, 0.5332637697392731, 0.5333670112561648]}, {\"marker\": {\"color\": \"red\", \"line\": {\"color\": \"red\", \"width\": 2}, \"size\": 11}, \"mode\": \"markers\", \"name\": \"Anomaly\", \"showlegend\": true, \"type\": \"scatter\", \"x\": [\"2010-09-09T23:27:00\", \"2010-09-09T23:24:00\", \"2010-09-09T23:23:00\", \"2010-09-09T23:22:00\", \"2010-09-09T23:21:00\", \"2010-09-09T23:20:00\", \"2010-09-09T23:19:00\", \"2010-09-09T23:18:00\", \"2010-09-09T22:34:00\", \"2010-09-09T22:32:00\"], \"y\": [0.561324454069723, 0.5466716087673373, 0.6193165395829728, 0.7081237565415526, 0.6468748825976874, 0.6561560908785483, 0.649830121589654, 0.5822371042240249, 0.5479351408292757, 0.5519201089515062]}],\n",
       "                        {\"template\": {\"data\": {\"bar\": [{\"error_x\": {\"color\": \"#2a3f5f\"}, \"error_y\": {\"color\": \"#2a3f5f\"}, \"marker\": {\"line\": {\"color\": \"#E5ECF6\", \"width\": 0.5}}, \"type\": \"bar\"}], \"barpolar\": [{\"marker\": {\"line\": {\"color\": \"#E5ECF6\", \"width\": 0.5}}, \"type\": \"barpolar\"}], \"carpet\": [{\"aaxis\": {\"endlinecolor\": \"#2a3f5f\", \"gridcolor\": \"white\", \"linecolor\": \"white\", \"minorgridcolor\": \"white\", \"startlinecolor\": \"#2a3f5f\"}, \"baxis\": {\"endlinecolor\": \"#2a3f5f\", \"gridcolor\": \"white\", \"linecolor\": \"white\", \"minorgridcolor\": \"white\", \"startlinecolor\": \"#2a3f5f\"}, \"type\": \"carpet\"}], \"choropleth\": [{\"colorbar\": {\"outlinewidth\": 0, \"ticks\": \"\"}, \"type\": \"choropleth\"}], \"contour\": [{\"colorbar\": {\"outlinewidth\": 0, \"ticks\": \"\"}, \"colorscale\": [[0.0, \"#0d0887\"], [0.1111111111111111, \"#46039f\"], [0.2222222222222222, \"#7201a8\"], [0.3333333333333333, \"#9c179e\"], [0.4444444444444444, \"#bd3786\"], [0.5555555555555556, \"#d8576b\"], [0.6666666666666666, \"#ed7953\"], [0.7777777777777778, \"#fb9f3a\"], [0.8888888888888888, \"#fdca26\"], [1.0, \"#f0f921\"]], \"type\": \"contour\"}], \"contourcarpet\": [{\"colorbar\": {\"outlinewidth\": 0, \"ticks\": \"\"}, \"type\": \"contourcarpet\"}], \"heatmap\": [{\"colorbar\": {\"outlinewidth\": 0, \"ticks\": \"\"}, \"colorscale\": [[0.0, \"#0d0887\"], [0.1111111111111111, \"#46039f\"], [0.2222222222222222, \"#7201a8\"], [0.3333333333333333, \"#9c179e\"], [0.4444444444444444, \"#bd3786\"], [0.5555555555555556, \"#d8576b\"], [0.6666666666666666, \"#ed7953\"], [0.7777777777777778, \"#fb9f3a\"], [0.8888888888888888, \"#fdca26\"], [1.0, \"#f0f921\"]], \"type\": \"heatmap\"}], \"heatmapgl\": [{\"colorbar\": {\"outlinewidth\": 0, \"ticks\": \"\"}, \"colorscale\": [[0.0, \"#0d0887\"], [0.1111111111111111, \"#46039f\"], [0.2222222222222222, \"#7201a8\"], [0.3333333333333333, \"#9c179e\"], [0.4444444444444444, \"#bd3786\"], [0.5555555555555556, \"#d8576b\"], [0.6666666666666666, \"#ed7953\"], [0.7777777777777778, \"#fb9f3a\"], [0.8888888888888888, \"#fdca26\"], [1.0, \"#f0f921\"]], \"type\": \"heatmapgl\"}], \"histogram\": [{\"marker\": {\"colorbar\": {\"outlinewidth\": 0, \"ticks\": \"\"}}, \"type\": \"histogram\"}], \"histogram2d\": [{\"colorbar\": {\"outlinewidth\": 0, \"ticks\": \"\"}, \"colorscale\": [[0.0, \"#0d0887\"], [0.1111111111111111, \"#46039f\"], [0.2222222222222222, \"#7201a8\"], [0.3333333333333333, \"#9c179e\"], [0.4444444444444444, \"#bd3786\"], [0.5555555555555556, \"#d8576b\"], [0.6666666666666666, \"#ed7953\"], [0.7777777777777778, \"#fb9f3a\"], [0.8888888888888888, \"#fdca26\"], [1.0, \"#f0f921\"]], \"type\": \"histogram2d\"}], \"histogram2dcontour\": [{\"colorbar\": {\"outlinewidth\": 0, \"ticks\": \"\"}, \"colorscale\": [[0.0, \"#0d0887\"], [0.1111111111111111, \"#46039f\"], [0.2222222222222222, \"#7201a8\"], [0.3333333333333333, \"#9c179e\"], [0.4444444444444444, \"#bd3786\"], [0.5555555555555556, \"#d8576b\"], [0.6666666666666666, \"#ed7953\"], [0.7777777777777778, \"#fb9f3a\"], [0.8888888888888888, \"#fdca26\"], [1.0, \"#f0f921\"]], \"type\": \"histogram2dcontour\"}], \"mesh3d\": [{\"colorbar\": {\"outlinewidth\": 0, \"ticks\": \"\"}, \"type\": \"mesh3d\"}], \"parcoords\": [{\"line\": {\"colorbar\": {\"outlinewidth\": 0, \"ticks\": \"\"}}, \"type\": \"parcoords\"}], \"pie\": [{\"automargin\": true, \"type\": \"pie\"}], \"scatter\": [{\"marker\": {\"colorbar\": {\"outlinewidth\": 0, \"ticks\": \"\"}}, \"type\": \"scatter\"}], \"scatter3d\": [{\"line\": {\"colorbar\": {\"outlinewidth\": 0, \"ticks\": \"\"}}, \"marker\": {\"colorbar\": {\"outlinewidth\": 0, \"ticks\": \"\"}}, \"type\": \"scatter3d\"}], \"scattercarpet\": [{\"marker\": {\"colorbar\": {\"outlinewidth\": 0, \"ticks\": \"\"}}, \"type\": \"scattercarpet\"}], \"scattergeo\": [{\"marker\": {\"colorbar\": {\"outlinewidth\": 0, \"ticks\": \"\"}}, \"type\": \"scattergeo\"}], \"scattergl\": [{\"marker\": {\"colorbar\": {\"outlinewidth\": 0, \"ticks\": \"\"}}, \"type\": \"scattergl\"}], \"scattermapbox\": [{\"marker\": {\"colorbar\": {\"outlinewidth\": 0, \"ticks\": \"\"}}, \"type\": \"scattermapbox\"}], \"scatterpolar\": [{\"marker\": {\"colorbar\": {\"outlinewidth\": 0, \"ticks\": \"\"}}, \"type\": \"scatterpolar\"}], \"scatterpolargl\": [{\"marker\": {\"colorbar\": {\"outlinewidth\": 0, \"ticks\": \"\"}}, \"type\": \"scatterpolargl\"}], \"scatterternary\": [{\"marker\": {\"colorbar\": {\"outlinewidth\": 0, \"ticks\": \"\"}}, \"type\": \"scatterternary\"}], \"surface\": [{\"colorbar\": {\"outlinewidth\": 0, \"ticks\": \"\"}, \"colorscale\": [[0.0, \"#0d0887\"], [0.1111111111111111, \"#46039f\"], [0.2222222222222222, \"#7201a8\"], [0.3333333333333333, \"#9c179e\"], [0.4444444444444444, \"#bd3786\"], [0.5555555555555556, \"#d8576b\"], [0.6666666666666666, \"#ed7953\"], [0.7777777777777778, \"#fb9f3a\"], [0.8888888888888888, \"#fdca26\"], [1.0, \"#f0f921\"]], \"type\": \"surface\"}], \"table\": [{\"cells\": {\"fill\": {\"color\": \"#EBF0F8\"}, \"line\": {\"color\": \"white\"}}, \"header\": {\"fill\": {\"color\": \"#C8D4E3\"}, \"line\": {\"color\": \"white\"}}, \"type\": \"table\"}]}, \"layout\": {\"annotationdefaults\": {\"arrowcolor\": \"#2a3f5f\", \"arrowhead\": 0, \"arrowwidth\": 1}, \"coloraxis\": {\"colorbar\": {\"outlinewidth\": 0, \"ticks\": \"\"}}, \"colorscale\": {\"diverging\": [[0, \"#8e0152\"], [0.1, \"#c51b7d\"], [0.2, \"#de77ae\"], [0.3, \"#f1b6da\"], [0.4, \"#fde0ef\"], [0.5, \"#f7f7f7\"], [0.6, \"#e6f5d0\"], [0.7, \"#b8e186\"], [0.8, \"#7fbc41\"], [0.9, \"#4d9221\"], [1, \"#276419\"]], \"sequential\": [[0.0, \"#0d0887\"], [0.1111111111111111, \"#46039f\"], [0.2222222222222222, \"#7201a8\"], [0.3333333333333333, \"#9c179e\"], [0.4444444444444444, \"#bd3786\"], [0.5555555555555556, \"#d8576b\"], [0.6666666666666666, \"#ed7953\"], [0.7777777777777778, \"#fb9f3a\"], [0.8888888888888888, \"#fdca26\"], [1.0, \"#f0f921\"]], \"sequentialminus\": [[0.0, \"#0d0887\"], [0.1111111111111111, \"#46039f\"], [0.2222222222222222, \"#7201a8\"], [0.3333333333333333, \"#9c179e\"], [0.4444444444444444, \"#bd3786\"], [0.5555555555555556, \"#d8576b\"], [0.6666666666666666, \"#ed7953\"], [0.7777777777777778, \"#fb9f3a\"], [0.8888888888888888, \"#fdca26\"], [1.0, \"#f0f921\"]]}, \"colorway\": [\"#636efa\", \"#EF553B\", \"#00cc96\", \"#ab63fa\", \"#FFA15A\", \"#19d3f3\", \"#FF6692\", \"#B6E880\", \"#FF97FF\", \"#FECB52\"], \"font\": {\"color\": \"#2a3f5f\"}, \"geo\": {\"bgcolor\": \"white\", \"lakecolor\": \"white\", \"landcolor\": \"#E5ECF6\", \"showlakes\": true, \"showland\": true, \"subunitcolor\": \"white\"}, \"hoverlabel\": {\"align\": \"left\"}, \"hovermode\": \"closest\", \"mapbox\": {\"style\": \"light\"}, \"paper_bgcolor\": \"white\", \"plot_bgcolor\": \"#E5ECF6\", \"polar\": {\"angularaxis\": {\"gridcolor\": \"white\", \"linecolor\": \"white\", \"ticks\": \"\"}, \"bgcolor\": \"#E5ECF6\", \"radialaxis\": {\"gridcolor\": \"white\", \"linecolor\": \"white\", \"ticks\": \"\"}}, \"scene\": {\"xaxis\": {\"backgroundcolor\": \"#E5ECF6\", \"gridcolor\": \"white\", \"gridwidth\": 2, \"linecolor\": \"white\", \"showbackground\": true, \"ticks\": \"\", \"zerolinecolor\": \"white\"}, \"yaxis\": {\"backgroundcolor\": \"#E5ECF6\", \"gridcolor\": \"white\", \"gridwidth\": 2, \"linecolor\": \"white\", \"showbackground\": true, \"ticks\": \"\", \"zerolinecolor\": \"white\"}, \"zaxis\": {\"backgroundcolor\": \"#E5ECF6\", \"gridcolor\": \"white\", \"gridwidth\": 2, \"linecolor\": \"white\", \"showbackground\": true, \"ticks\": \"\", \"zerolinecolor\": \"white\"}}, \"shapedefaults\": {\"line\": {\"color\": \"#2a3f5f\"}}, \"ternary\": {\"aaxis\": {\"gridcolor\": \"white\", \"linecolor\": \"white\", \"ticks\": \"\"}, \"baxis\": {\"gridcolor\": \"white\", \"linecolor\": \"white\", \"ticks\": \"\"}, \"bgcolor\": \"#E5ECF6\", \"caxis\": {\"gridcolor\": \"white\", \"linecolor\": \"white\", \"ticks\": \"\"}}, \"title\": {\"x\": 0.05}, \"xaxis\": {\"automargin\": true, \"gridcolor\": \"white\", \"linecolor\": \"white\", \"ticks\": \"\", \"title\": {\"standoff\": 15}, \"zerolinecolor\": \"white\", \"zerolinewidth\": 2}, \"yaxis\": {\"automargin\": true, \"gridcolor\": \"white\", \"linecolor\": \"white\", \"ticks\": \"\", \"title\": {\"standoff\": 15}, \"zerolinecolor\": \"white\", \"zerolinewidth\": 2}}}},\n",
       "                        {\"responsive\": true}\n",
       "                    ).then(function(){\n",
       "                            \n",
       "var gd = document.getElementById('bafc69cc-2491-4765-8337-d9001a4746d6');\n",
       "var x = new MutationObserver(function (mutations, observer) {{\n",
       "        var display = window.getComputedStyle(gd).display;\n",
       "        if (!display || display === 'none') {{\n",
       "            console.log([gd, 'removed!']);\n",
       "            Plotly.purge(gd);\n",
       "            observer.disconnect();\n",
       "        }}\n",
       "}});\n",
       "\n",
       "// Listen for the removal of the full notebook cells\n",
       "var notebookContainer = gd.closest('#notebook-container');\n",
       "if (notebookContainer) {{\n",
       "    x.observe(notebookContainer, {childList: true});\n",
       "}}\n",
       "\n",
       "// Listen for the clearing of the current output cell\n",
       "var outputEl = gd.closest('.output');\n",
       "if (outputEl) {{\n",
       "    x.observe(outputEl, {childList: true});\n",
       "}}\n",
       "\n",
       "                        })\n",
       "                };\n",
       "                });\n",
       "            </script>\n",
       "        </div>"
      ]
     },
     "metadata": {},
     "output_type": "display_data"
    }
   ],
   "source": [
    "### Plots ########\n",
    "\n",
    "from plotly.offline import download_plotlyjs, init_notebook_mode, plot, iplot\n",
    "# import matplotlib.pyplot as plt\n",
    "# from matplotlib import pyplot\n",
    "import plotly.graph_objects as go\n",
    "\n",
    "plot_data=go.Scatter(name='Data',showlegend=True,x=date_time_list, y=anomalyScores_list)\n",
    "anomalies_map = go.Scatter(name=\"Anomaly\",\n",
    "                               showlegend=True,\n",
    "                               x=anomaly_date,\n",
    "                               y=pred_list,\n",
    "                               mode='markers',\n",
    "                               marker=dict(color=\"red\",\n",
    "                                           size=11,\n",
    "                                           line=dict(\n",
    "                                               color=\"red\",\n",
    "                                               width=2)))\n",
    "fig=go.Figure(data=[plot_data,anomalies_map])\n",
    "fig.show()"
   ]
  }
 ],
 "metadata": {
  "kernelspec": {
   "display_name": "Python 3",
   "language": "python",
   "name": "python3"
  },
  "language_info": {
   "codemirror_mode": {
    "name": "ipython",
    "version": 3
   },
   "file_extension": ".py",
   "mimetype": "text/x-python",
   "name": "python",
   "nbconvert_exporter": "python",
   "pygments_lexer": "ipython3",
   "version": "3.6.10"
  }
 },
 "nbformat": 4,
 "nbformat_minor": 4
}

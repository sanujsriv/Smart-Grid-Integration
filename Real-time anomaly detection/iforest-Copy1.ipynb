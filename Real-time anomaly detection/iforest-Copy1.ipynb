{
 "cells": [
  {
   "cell_type": "code",
   "execution_count": 2,
   "metadata": {},
   "outputs": [],
   "source": [
    "import os\n",
    "os.environ[\"JAVA_HOME\"] = \"/dbr1/hctl/spark_essentials/jdk1.8.0_251/\"\n",
    "os.environ[\"SPARK_HOME\"] = \"/usr/local/spark-2.4.0-bin-hadoop2.7/\""
   ]
  },
  {
   "cell_type": "code",
   "execution_count": 3,
   "metadata": {},
   "outputs": [],
   "source": [
    "import findspark\n",
    "findspark.init()\n",
    "\n",
    "\n",
    "from pyspark_iforest.ml.iforest import *\n",
    "from decimal import Decimal\n",
    "from pyspark.ml.linalg import Vectors\n",
    "import tempfile\n",
    "import pandas as pd\n",
    "from pyspark.sql.functions import to_timestamp,to_date\n",
    "from datetime import datetime\n",
    "import time\n",
    "from pyspark.sql import SQLContext,SparkSession"
   ]
  },
  {
   "cell_type": "code",
   "execution_count": 4,
   "metadata": {},
   "outputs": [
    {
     "name": "stdout",
     "output_type": "stream",
     "text": [
      "Spark Version -  2.4.0\n",
      "db connected successfully\n"
     ]
    }
   ],
   "source": [
    "spark = SparkSession.builder.master(\"local[*]\") \\\n",
    "        .appName(\"IForestExample\") \\\n",
    "        .config(\"spark.jars\", \"/dbr1/hctl/spark_essentials/mysql-connector-java-5.1.49.jar,/dbr1/hctl/spark_essentials/spark-iforest-2.4.0.jar\") \\\n",
    "        .getOrCreate()\n",
    "\n",
    "# spark = SparkSession.builder.master(\"local[*]\").config(\"spark.jars\", \"/dbr1/hctl/spark_essentials/mysql-connector-java-5.1.49.jar,/dbr1/hctl/spark_essentials/spark-iforest-2.4.0.jar\").getOrCreate()\n",
    "\n",
    "sqlContext = SQLContext(spark.sparkContext)\n",
    "\n",
    "print(\"Spark Version - \", spark.version)\n",
    "\n",
    "hostname = \"dbclass.cs.nmsu.edu\" \n",
    "dbname = \"nmsu_power\"\n",
    "jdbcPort = 3306\n",
    "username = \"sakumar\"\n",
    "password = \"dbnmsu123\"\n",
    "jdbc_url = \"jdbc:mysql://{0}:{1}/{2}?user={3}&password={4}\".format(hostname,jdbcPort, dbname,username,password)\n",
    "\n",
    "query = \"\"\"\n",
    "( SELECT * FROM (SELECT * FROM power ORDER BY Date DESC, TIME DESC LIMIT 100 ) sub ORDER BY Date ASC, TIME ASC )\n",
    "whyalias\n",
    "\"\"\"\n",
    "\n",
    "df_origin = sqlContext.read.format('jdbc').options(driver='com.mysql.jdbc.Driver',url=jdbc_url, dbtable=query ).load()\n",
    "#df_origin.show()\n",
    "print(\"db connected successfully\")"
   ]
  },
  {
   "cell_type": "code",
   "execution_count": 5,
   "metadata": {},
   "outputs": [
    {
     "name": "stdout",
     "output_type": "stream",
     "text": [
      "converted data successfully\n"
     ]
    }
   ],
   "source": [
    "###### Data Conversion ########\n",
    "\n",
    "date=df_origin.select(to_date(df_origin['Date'], 'dd/MM/yyyy').alias('date')).collect()\n",
    "time=df_origin.select(to_timestamp(df_origin['Time'], 'yyyy-MM-dd HH:mm:ss').alias('time')).collect()\n",
    "\n",
    "date_list=[]\n",
    "time_list=[]\n",
    "date_time_list=[]\n",
    "\n",
    "for da in date:\n",
    "  row_list=[]\n",
    "  for d in da:\n",
    "    row_list.append(d)\n",
    "  date_list.append(row_list)\n",
    "\n",
    "for ti in time:\n",
    "  row_list=[]\n",
    "  for t in ti:\n",
    "    row_list.append(t.time())\n",
    "  time_list.append(row_list)\n",
    "\n",
    "for i in range(len(time_list)):\n",
    "  date_time_list.append(datetime.combine(date_list[i][0],time_list[i][0]))\n",
    "\n",
    "# last=100\n",
    "# date_time_list = date_time_list[-last:]\n",
    "\n",
    "columns_to_drop=[\"Date\",\"Time\"]\n",
    "df1=df_origin.drop(*columns_to_drop)\n",
    "\n",
    "a=[column for column in df1.columns]\n",
    "g=df1.select(a).collect()\n",
    "\n",
    "# record_count=df1.count()\n",
    "# print(record_count)\n",
    "\n",
    "size=0\n",
    "a=[]\n",
    "for row in g:\n",
    "    row_data = []\n",
    "    for data in row:\n",
    "        if type(data) == Decimal:\n",
    "            row_data.append(float(data))\n",
    "        elif type(data) == float:\n",
    "            row_data.append(float(data))\n",
    "    a.append(row_data)\n",
    "\n",
    "# a=a[-last:]\n",
    "a=[[i / sum(j) for i in j] for j in a]\n",
    "data = [(Vectors.dense(i),) for i in a]\n",
    "\n",
    "\n",
    "\n",
    "print(\"converted data successfully\")"
   ]
  },
  {
   "cell_type": "code",
   "execution_count": 6,
   "metadata": {},
   "outputs": [
    {
     "name": "stdout",
     "output_type": "stream",
     "text": [
      "init iforest\n",
      "fit iforest\n",
      "+--------------------+-------------------+----------+\n",
      "|            features|       anomalyScore|prediction|\n",
      "+--------------------+-------------------+----------+\n",
      "|[0.00238521654184...| 0.5336078179306575|       0.0|\n",
      "|[0.00239860799427...| 0.5335754238893914|       0.0|\n",
      "|[0.00241483047402...| 0.5308983171822489|       0.0|\n",
      "|[0.00243065717165...| 0.5372101499798977|       0.0|\n",
      "|[0.00242126802703...| 0.5369268713556855|       0.0|\n",
      "|[0.00242325675950...| 0.5285451641134443|       0.0|\n",
      "|[0.00242488139167...| 0.5439464218302263|       0.0|\n",
      "|[0.00204585308826...| 0.4633944592973149|       0.0|\n",
      "|[0.00168024730630...|0.45262107140983027|       0.0|\n",
      "|[0.00167976776802...| 0.4530608692473021|       0.0|\n",
      "|[0.00168502283328...| 0.4571316519255769|       0.0|\n",
      "|[0.00168744878836...| 0.4882276929205076|       0.0|\n",
      "|[0.00168221564866...|0.47916668665497436|       0.0|\n",
      "|[0.00168536581394...|0.45463939679421084|       0.0|\n",
      "|[0.00168502283328...| 0.4571316519255769|       0.0|\n",
      "|[0.00167428944789...|0.45921200351093755|       0.0|\n",
      "|[0.00170822810157...|  0.473762270900661|       0.0|\n",
      "|[0.00170473638054...| 0.4675993276031135|       0.0|\n",
      "|[0.00170410788313...|0.46105198647966955|       0.0|\n",
      "|[0.00168968798188...| 0.4591302171962325|       0.0|\n",
      "+--------------------+-------------------+----------+\n",
      "only showing top 20 rows\n",
      "\n"
     ]
    }
   ],
   "source": [
    "##########################\n",
    "\n",
    "# Spark-iForest  \n",
    "\n",
    "##########################\n",
    "\n",
    "# NOTE: features need to be dense vectors for the model input\n",
    "\n",
    "df = spark.createDataFrame(data, [\"features\"])\n",
    "\n",
    "# Init an IForest Object\n",
    "iforest = IForest(contamination=0.1,maxDepth=4)\n",
    "print(\"init iforest\")\n",
    "# Fit on a given data frame\n",
    "model = iforest.fit(df)\n",
    "print(\"fit iforest\")\n",
    "# Check if the model has summary or not, the newly trained model has the summary info\n",
    "model.hasSummary\n",
    "\n",
    "# Show model summary\n",
    "summary = model.summary\n",
    "\n",
    "# Show the number of anomalies\n",
    "summary.numAnomalies\n",
    "\n",
    "# Predict for a new data frame based on the fitted model\n",
    "transformed = model.transform(df)\n",
    "\n",
    "# Collect spark data frame into local df\n",
    "rows = transformed.collect()\n",
    "\n",
    "temp_path = tempfile.mkdtemp()\n",
    "iforest_path = temp_path + \"/iforest\"\n",
    "\n",
    "# Save the iforest estimator into the path\n",
    "iforest.save(iforest_path)\n",
    "\n",
    "# Load iforest estimator from a path\n",
    "loaded_iforest = IForest.load(iforest_path)\n",
    "\n",
    "model_path = temp_path + \"/iforest_model\"\n",
    "\n",
    "# Save the fitted model into the model path\n",
    "model.save(model_path)\n",
    "\n",
    "# Load a fitted model from a model path\n",
    "loaded_model = IForestModel.load(model_path)\n",
    "\n",
    "# The loaded model has no summary info\n",
    "loaded_model.hasSummary\n",
    "\n",
    "# Use the loaded model to predict a new data frame\n",
    "new_df=loaded_model.transform(df)\n",
    "new_df.show()"
   ]
  },
  {
   "cell_type": "code",
   "execution_count": 7,
   "metadata": {},
   "outputs": [
    {
     "name": "stdout",
     "output_type": "stream",
     "text": [
      "Percentage of anomalies in data: 10.00\n"
     ]
    }
   ],
   "source": [
    "columns_to_drop=[\"Date\",\"Time\"]\n",
    "df1=df_origin.drop(*columns_to_drop)\n",
    "\n",
    "predictions=new_df.select('prediction').collect()\n",
    "anomalyScores = new_df.select('anomalyScore').collect()\n",
    "\n",
    "anomalyScores_list=[]\n",
    "for an in anomalyScores:\n",
    "  row_list=[]\n",
    "  for a in an:\n",
    "    row_list.append(a)\n",
    "  anomalyScores_list.append(row_list)\n",
    "anomalyScores_list = [item for sublist in anomalyScores_list for item in sublist]\n",
    "\n",
    "\n",
    "plist=[]\n",
    "for an in predictions:\n",
    "  row_list=[]\n",
    "  for a in an:\n",
    "    row_list.append(a)\n",
    "  plist.append(row_list)\n",
    "plist = [item for sublist in plist for item in sublist]\n",
    "\n",
    "# print(plist)\n",
    "\n",
    "# print(date_time_list)\n",
    "# print(anomalyScores_list)\n",
    "\n",
    "anomaly_date=[]\n",
    "for i,j in zip(plist,date_time_list):\n",
    "  if(i==1.0):\n",
    "    anomaly_date.append(j)\n",
    "\n",
    "# print(anomaly_date)\n",
    "\n",
    "pred_1=new_df.filter(new_df['prediction']==1.0).select(new_df['anomalyScore']).collect()\n",
    "\n",
    "pred_list=[]\n",
    "for an in pred_1:\n",
    "  row_list=[]\n",
    "  for a in an:\n",
    "    row_list.append(a)\n",
    "  pred_list.append(row_list)\n",
    "pred_list = [item for sublist in pred_list for item in sublist]\n",
    "\n",
    "# print(pred_list)\n",
    "# print(anomalyScores_list)\n",
    "\n",
    "print(\"Percentage of anomalies in data: {:.2f}\".format( (len(pred_list) / len(plist) )*100))"
   ]
  },
  {
   "cell_type": "code",
   "execution_count": 8,
   "metadata": {},
   "outputs": [
    {
     "data": {
      "text/plain": [
       "array([[<matplotlib.axes._subplots.AxesSubplot object at 0x7f4f667a3668>]],\n",
       "      dtype=object)"
      ]
     },
     "execution_count": 8,
     "metadata": {},
     "output_type": "execute_result"
    },
    {
     "data": {
      "image/png": "[encoded data removed]",
      "text/plain": [
       "<Figure size 432x288 with 1 Axes>"
      ]
     },
     "metadata": {
      "needs_background": "light"
     },
     "output_type": "display_data"
    },
    {
     "data": {
      "image/png": "[encoded data removed]",
      "text/plain": [
       "<Figure size 432x288 with 1 Axes>"
      ]
     },
     "metadata": {
      "needs_background": "light"
     },
     "output_type": "display_data"
    }
   ],
   "source": [
    "#### Histogram ########\n",
    "\n",
    "\n",
    "pandas_df=new_df.toPandas()\n",
    "\n",
    "pandas_df.hist(column='anomalyScore')\n",
    "pandas_df.hist(column='prediction')"
   ]
  },
  {
   "cell_type": "code",
   "execution_count": 10,
   "metadata": {},
   "outputs": [
    {
     "data": {
      "application/vnd.plotly.v1+json": {
       "config": {
        "plotlyServerURL": "https://plot.ly"
       },
       "data": [
        {
         "name": "Data",
         "showlegend": true,
         "type": "scatter",
         "x": [
          "2006-12-24T22:05:00",
          "2006-12-24T22:04:00",
          "2006-12-24T22:03:00",
          "2006-12-24T22:02:00",
          "2006-12-24T22:01:00",
          "2006-12-24T22:00:00",
          "2006-12-24T21:59:00",
          "2006-12-24T21:58:00",
          "2006-12-24T21:57:00",
          "2006-12-24T21:56:00",
          "2006-12-24T21:55:00",
          "2006-12-24T21:54:00",
          "2006-12-24T21:53:00",
          "2006-12-24T21:52:00",
          "2006-12-24T21:51:00",
          "2006-12-24T21:50:00",
          "2006-12-24T21:49:00",
          "2006-12-24T21:48:00",
          "2006-12-24T21:47:00",
          "2006-12-24T21:46:00",
          "2006-12-24T21:45:00",
          "2006-12-24T21:44:00",
          "2006-12-24T21:43:00",
          "2006-12-24T21:42:00",
          "2006-12-24T21:41:00",
          "2006-12-24T21:40:00",
          "2006-12-24T21:39:00",
          "2006-12-24T21:38:00",
          "2006-12-24T21:37:00",
          "2006-12-24T21:36:00",
          "2006-12-24T21:35:00",
          "2006-12-24T21:34:00",
          "2006-12-24T21:33:00",
          "2006-12-24T21:32:00",
          "2006-12-24T21:31:00",
          "2006-12-24T21:30:00",
          "2006-12-24T21:29:00",
          "2006-12-24T21:28:00",
          "2006-12-24T21:27:00",
          "2006-12-24T21:26:00",
          "2006-12-24T21:25:00",
          "2006-12-24T21:24:00",
          "2006-12-24T21:23:00",
          "2006-12-24T21:22:00",
          "2006-12-24T21:21:00",
          "2006-12-24T21:20:00",
          "2006-12-24T21:19:00",
          "2006-12-24T21:18:00",
          "2006-12-24T21:17:00",
          "2006-12-24T21:16:00",
          "2006-12-24T21:15:00",
          "2006-12-24T21:14:00",
          "2006-12-24T21:13:00",
          "2006-12-24T21:12:00",
          "2006-12-24T21:11:00",
          "2006-12-24T21:10:00",
          "2006-12-24T21:09:00",
          "2006-12-24T21:08:00",
          "2006-12-24T21:07:00",
          "2006-12-24T21:06:00",
          "2006-12-24T21:05:00",
          "2006-12-24T21:04:00",
          "2006-12-24T21:03:00",
          "2006-12-24T21:02:00",
          "2006-12-24T21:01:00",
          "2006-12-24T21:00:00",
          "2006-12-24T20:59:00",
          "2006-12-24T20:58:00",
          "2006-12-24T20:57:00",
          "2006-12-24T20:56:00",
          "2006-12-24T20:55:00",
          "2006-12-24T20:54:00",
          "2006-12-24T20:53:00",
          "2006-12-24T20:52:00",
          "2006-12-24T20:51:00",
          "2006-12-24T20:50:00",
          "2006-12-24T20:49:00",
          "2006-12-24T20:48:00",
          "2006-12-24T20:47:00",
          "2006-12-24T20:46:00",
          "2006-12-24T20:45:00",
          "2006-12-24T20:44:00",
          "2006-12-24T20:43:00",
          "2006-12-24T20:42:00",
          "2006-12-24T20:41:00",
          "2006-12-24T20:40:00",
          "2006-12-24T20:39:00",
          "2006-12-24T20:38:00",
          "2006-12-24T20:37:00",
          "2006-12-24T20:36:00",
          "2006-12-24T20:35:00",
          "2006-12-24T20:34:00",
          "2006-12-24T20:33:00",
          "2006-12-24T20:32:00",
          "2006-12-24T20:31:00",
          "2006-12-24T20:30:00",
          "2006-12-24T20:29:00",
          "2006-12-24T20:28:00",
          "2006-12-24T20:27:00",
          "2006-12-24T20:26:00"
         ],
         "y": [
          0.5336078179306575,
          0.5335754238893914,
          0.5308983171822489,
          0.5372101499798977,
          0.5369268713556855,
          0.5285451641134443,
          0.5439464218302263,
          0.4633944592973149,
          0.45262107140983027,
          0.4530608692473021,
          0.4571316519255769,
          0.4882276929205076,
          0.47916668665497436,
          0.45463939679421084,
          0.4571316519255769,
          0.45921200351093755,
          0.473762270900661,
          0.4675993276031135,
          0.46105198647966955,
          0.4591302171962325,
          0.44885244441410493,
          0.45765484173307963,
          0.4540963853019787,
          0.4530608692473021,
          0.45102930224798654,
          0.4500677235801302,
          0.45595825504557064,
          0.45336626673586194,
          0.45921200351093755,
          0.4571316519255769,
          0.46652714370214154,
          0.45509065078479444,
          0.4579643582333624,
          0.45509065078479444,
          0.45194966287155697,
          0.45906227199561067,
          0.5390005842299366,
          0.5435505683889802,
          0.5498092102343974,
          0.5745312180587084,
          0.7367108028595615,
          0.6507503953312426,
          0.6479800587852427,
          0.6716490612168192,
          0.6490328829905371,
          0.5345157401710254,
          0.5351278993953631,
          0.5366712337276295,
          0.6384309015503568,
          0.48859520015674385,
          0.4927406543254563,
          0.5449092153996944,
          0.48810614148715703,
          0.557863541802414,
          0.504868008488673,
          0.4940240935904065,
          0.5415111366802792,
          0.4906883026783189,
          0.5388004141999138,
          0.4935528545894753,
          0.4942863401621843,
          0.5554660590991464,
          0.5049000916526969,
          0.47464072399030205,
          0.45640979366238743,
          0.4786582727898533,
          0.4640934103786818,
          0.4745243420297827,
          0.45540400562619954,
          0.4562645481649351,
          0.4639678379312021,
          0.45238644588962235,
          0.4528841858087997,
          0.45247615668898455,
          0.45403235669947006,
          0.455535132235996,
          0.4556452038114395,
          0.4569958309024119,
          0.46027861330151354,
          0.45623212016779346,
          0.5338915136900273,
          0.48220482695631844,
          0.4813778356048323,
          0.4801501299487085,
          0.47638147178292906,
          0.46557751673241216,
          0.466278772414632,
          0.46923372631970106,
          0.46557751673241216,
          0.5648497803981934,
          0.45245351328039335,
          0.4560007874696499,
          0.4560007874696499,
          0.45682197987021206,
          0.46414236944977144,
          0.4536354935615691,
          0.4638486553518883,
          0.4630385102629159,
          0.4540494283190036,
          0.4531017391871563
         ]
        },
        {
         "name": "Data2",
         "showlegend": true,
         "type": "scatter",
         "x": [
          "2006-12-24T22:05:00",
          "2006-12-24T22:04:00",
          "2006-12-24T22:03:00",
          "2006-12-24T22:02:00",
          "2006-12-24T22:01:00",
          "2006-12-24T22:00:00",
          "2006-12-24T21:59:00",
          "2006-12-24T21:58:00",
          "2006-12-24T21:57:00",
          "2006-12-24T21:56:00",
          "2006-12-24T21:55:00",
          "2006-12-24T21:54:00",
          "2006-12-24T21:53:00",
          "2006-12-24T21:52:00",
          "2006-12-24T21:51:00",
          "2006-12-24T21:50:00",
          "2006-12-24T21:49:00",
          "2006-12-24T21:48:00",
          "2006-12-24T21:47:00",
          "2006-12-24T21:46:00",
          "2006-12-24T21:45:00",
          "2006-12-24T21:44:00",
          "2006-12-24T21:43:00",
          "2006-12-24T21:42:00",
          "2006-12-24T21:41:00",
          "2006-12-24T21:40:00",
          "2006-12-24T21:39:00",
          "2006-12-24T21:38:00",
          "2006-12-24T21:37:00",
          "2006-12-24T21:36:00",
          "2006-12-24T21:35:00",
          "2006-12-24T21:34:00",
          "2006-12-24T21:33:00",
          "2006-12-24T21:32:00",
          "2006-12-24T21:31:00",
          "2006-12-24T21:30:00",
          "2006-12-24T21:29:00",
          "2006-12-24T21:28:00",
          "2006-12-24T21:27:00",
          "2006-12-24T21:26:00",
          "2006-12-24T21:25:00",
          "2006-12-24T21:24:00",
          "2006-12-24T21:23:00",
          "2006-12-24T21:22:00",
          "2006-12-24T21:21:00",
          "2006-12-24T21:20:00",
          "2006-12-24T21:19:00",
          "2006-12-24T21:18:00",
          "2006-12-24T21:17:00",
          "2006-12-24T21:16:00",
          "2006-12-24T21:15:00",
          "2006-12-24T21:14:00",
          "2006-12-24T21:13:00",
          "2006-12-24T21:12:00",
          "2006-12-24T21:11:00",
          "2006-12-24T21:10:00",
          "2006-12-24T21:09:00",
          "2006-12-24T21:08:00",
          "2006-12-24T21:07:00",
          "2006-12-24T21:06:00",
          "2006-12-24T21:05:00",
          "2006-12-24T21:04:00",
          "2006-12-24T21:03:00",
          "2006-12-24T21:02:00",
          "2006-12-24T21:01:00",
          "2006-12-24T21:00:00",
          "2006-12-24T20:59:00",
          "2006-12-24T20:58:00",
          "2006-12-24T20:57:00",
          "2006-12-24T20:56:00",
          "2006-12-24T20:55:00",
          "2006-12-24T20:54:00",
          "2006-12-24T20:53:00",
          "2006-12-24T20:52:00",
          "2006-12-24T20:51:00",
          "2006-12-24T20:50:00",
          "2006-12-24T20:49:00",
          "2006-12-24T20:48:00",
          "2006-12-24T20:47:00",
          "2006-12-24T20:46:00",
          "2006-12-24T20:45:00",
          "2006-12-24T20:44:00",
          "2006-12-24T20:43:00",
          "2006-12-24T20:42:00",
          "2006-12-24T20:41:00",
          "2006-12-24T20:40:00",
          "2006-12-24T20:39:00",
          "2006-12-24T20:38:00",
          "2006-12-24T20:37:00",
          "2006-12-24T20:36:00",
          "2006-12-24T20:35:00",
          "2006-12-24T20:34:00",
          "2006-12-24T20:33:00",
          "2006-12-24T20:32:00",
          "2006-12-24T20:31:00",
          "2006-12-24T20:30:00",
          "2006-12-24T20:29:00",
          "2006-12-24T20:28:00",
          "2006-12-24T20:27:00",
          "2006-12-24T20:26:00"
         ],
         "y": [
          0.5336078179306575,
          0.5335754238893914,
          0.5308983171822489,
          0.5372101499798977,
          0.5369268713556855,
          0.5285451641134443,
          0.5439464218302263,
          0.4633944592973149,
          0.45262107140983027,
          0.4530608692473021,
          0.4571316519255769,
          0.4882276929205076,
          0.47916668665497436,
          0.45463939679421084,
          0.4571316519255769,
          0.45921200351093755,
          0.473762270900661,
          0.4675993276031135,
          0.46105198647966955,
          0.4591302171962325,
          0.44885244441410493,
          0.45765484173307963,
          0.4540963853019787,
          0.4530608692473021,
          0.45102930224798654,
          0.4500677235801302,
          0.45595825504557064,
          0.45336626673586194,
          0.45921200351093755,
          0.4571316519255769,
          0.46652714370214154,
          0.45509065078479444,
          0.4579643582333624,
          0.45509065078479444,
          0.45194966287155697,
          0.45906227199561067,
          0.5390005842299366,
          0.5435505683889802,
          0.5498092102343974,
          0.5745312180587084,
          0.7367108028595615,
          0.6507503953312426,
          0.6479800587852427,
          0.6716490612168192,
          0.6490328829905371,
          0.5345157401710254,
          0.5351278993953631,
          0.5366712337276295,
          0.6384309015503568,
          0.48859520015674385,
          0.4927406543254563,
          0.5449092153996944,
          0.48810614148715703,
          0.557863541802414,
          0.504868008488673,
          0.4940240935904065,
          0.5415111366802792,
          0.4906883026783189,
          0.5388004141999138,
          0.4935528545894753,
          0.4942863401621843,
          0.5554660590991464,
          0.5049000916526969,
          0.47464072399030205,
          0.45640979366238743,
          0.4786582727898533,
          0.4640934103786818,
          0.4745243420297827,
          0.45540400562619954,
          0.4562645481649351,
          0.4639678379312021,
          0.45238644588962235,
          0.4528841858087997,
          0.45247615668898455,
          0.45403235669947006,
          0.455535132235996,
          0.4556452038114395,
          0.4569958309024119,
          0.46027861330151354,
          0.45623212016779346,
          0.5338915136900273,
          0.48220482695631844,
          0.4813778356048323,
          0.4801501299487085,
          0.47638147178292906,
          0.46557751673241216,
          0.466278772414632,
          0.46923372631970106,
          0.46557751673241216,
          0.5648497803981934,
          0.45245351328039335,
          0.4560007874696499,
          0.4560007874696499,
          0.45682197987021206,
          0.46414236944977144,
          0.4536354935615691,
          0.4638486553518883,
          0.4630385102629159,
          0.4540494283190036,
          0.4531017391871563
         ]
        },
        {
         "marker": {
          "color": "red",
          "line": {
           "color": "red",
           "width": 2
          },
          "size": 11
         },
         "mode": "markers",
         "name": "Anomaly",
         "showlegend": true,
         "type": "scatter",
         "x": [
          "2006-12-24T21:26:00",
          "2006-12-24T21:25:00",
          "2006-12-24T21:24:00",
          "2006-12-24T21:23:00",
          "2006-12-24T21:22:00",
          "2006-12-24T21:21:00",
          "2006-12-24T21:17:00",
          "2006-12-24T21:12:00",
          "2006-12-24T21:04:00",
          "2006-12-24T20:36:00"
         ],
         "y": [
          0.5745312180587084,
          0.7367108028595615,
          0.6507503953312426,
          0.6479800587852427,
          0.6716490612168192,
          0.6490328829905371,
          0.6384309015503568,
          0.557863541802414,
          0.5554660590991464,
          0.5648497803981934
         ]
        }
       ],
       "layout": {
        "template": {
         "data": {
          "bar": [
           {
            "error_x": {
             "color": "#2a3f5f"
            },
            "error_y": {
             "color": "#2a3f5f"
            },
            "marker": {
             "line": {
              "color": "#E5ECF6",
              "width": 0.5
             }
            },
            "type": "bar"
           }
          ],
          "barpolar": [
           {
            "marker": {
             "line": {
              "color": "#E5ECF6",
              "width": 0.5
             }
            },
            "type": "barpolar"
           }
          ],
          "carpet": [
           {
            "aaxis": {
             "endlinecolor": "#2a3f5f",
             "gridcolor": "white",
             "linecolor": "white",
             "minorgridcolor": "white",
             "startlinecolor": "#2a3f5f"
            },
            "baxis": {
             "endlinecolor": "#2a3f5f",
             "gridcolor": "white",
             "linecolor": "white",
             "minorgridcolor": "white",
             "startlinecolor": "#2a3f5f"
            },
            "type": "carpet"
           }
          ],
          "choropleth": [
           {
            "colorbar": {
             "outlinewidth": 0,
             "ticks": ""
            },
            "type": "choropleth"
           }
          ],
          "contour": [
           {
            "colorbar": {
             "outlinewidth": 0,
             "ticks": ""
            },
            "colorscale": [
             [
              0,
              "#0d0887"
             ],
             [
              0.1111111111111111,
              "#46039f"
             ],
             [
              0.2222222222222222,
              "#7201a8"
             ],
             [
              0.3333333333333333,
              "#9c179e"
             ],
             [
              0.4444444444444444,
              "#bd3786"
             ],
             [
              0.5555555555555556,
              "#d8576b"
             ],
             [
              0.6666666666666666,
              "#ed7953"
             ],
             [
              0.7777777777777778,
              "#fb9f3a"
             ],
             [
              0.8888888888888888,
              "#fdca26"
             ],
             [
              1,
              "#f0f921"
             ]
            ],
            "type": "contour"
           }
          ],
          "contourcarpet": [
           {
            "colorbar": {
             "outlinewidth": 0,
             "ticks": ""
            },
            "type": "contourcarpet"
           }
          ],
          "heatmap": [
           {
            "colorbar": {
             "outlinewidth": 0,
             "ticks": ""
            },
            "colorscale": [
             [
              0,
              "#0d0887"
             ],
             [
              0.1111111111111111,
              "#46039f"
             ],
             [
              0.2222222222222222,
              "#7201a8"
             ],
             [
              0.3333333333333333,
              "#9c179e"
             ],
             [
              0.4444444444444444,
              "#bd3786"
             ],
             [
              0.5555555555555556,
              "#d8576b"
             ],
             [
              0.6666666666666666,
              "#ed7953"
             ],
             [
              0.7777777777777778,
              "#fb9f3a"
             ],
             [
              0.8888888888888888,
              "#fdca26"
             ],
             [
              1,
              "#f0f921"
             ]
            ],
            "type": "heatmap"
           }
          ],
          "heatmapgl": [
           {
            "colorbar": {
             "outlinewidth": 0,
             "ticks": ""
            },
            "colorscale": [
             [
              0,
              "#0d0887"
             ],
             [
              0.1111111111111111,
              "#46039f"
             ],
             [
              0.2222222222222222,
              "#7201a8"
             ],
             [
              0.3333333333333333,
              "#9c179e"
             ],
             [
              0.4444444444444444,
              "#bd3786"
             ],
             [
              0.5555555555555556,
              "#d8576b"
             ],
             [
              0.6666666666666666,
              "#ed7953"
             ],
             [
              0.7777777777777778,
              "#fb9f3a"
             ],
             [
              0.8888888888888888,
              "#fdca26"
             ],
             [
              1,
              "#f0f921"
             ]
            ],
            "type": "heatmapgl"
           }
          ],
          "histogram": [
           {
            "marker": {
             "colorbar": {
              "outlinewidth": 0,
              "ticks": ""
             }
            },
            "type": "histogram"
           }
          ],
          "histogram2d": [
           {
            "colorbar": {
             "outlinewidth": 0,
             "ticks": ""
            },
            "colorscale": [
             [
              0,
              "#0d0887"
             ],
             [
              0.1111111111111111,
              "#46039f"
             ],
             [
              0.2222222222222222,
              "#7201a8"
             ],
             [
              0.3333333333333333,
              "#9c179e"
             ],
             [
              0.4444444444444444,
              "#bd3786"
             ],
             [
              0.5555555555555556,
              "#d8576b"
             ],
             [
              0.6666666666666666,
              "#ed7953"
             ],
             [
              0.7777777777777778,
              "#fb9f3a"
             ],
             [
              0.8888888888888888,
              "#fdca26"
             ],
             [
              1,
              "#f0f921"
             ]
            ],
            "type": "histogram2d"
           }
          ],
          "histogram2dcontour": [
           {
            "colorbar": {
             "outlinewidth": 0,
             "ticks": ""
            },
            "colorscale": [
             [
              0,
              "#0d0887"
             ],
             [
              0.1111111111111111,
              "#46039f"
             ],
             [
              0.2222222222222222,
              "#7201a8"
             ],
             [
              0.3333333333333333,
              "#9c179e"
             ],
             [
              0.4444444444444444,
              "#bd3786"
             ],
             [
              0.5555555555555556,
              "#d8576b"
             ],
             [
              0.6666666666666666,
              "#ed7953"
             ],
             [
              0.7777777777777778,
              "#fb9f3a"
             ],
             [
              0.8888888888888888,
              "#fdca26"
             ],
             [
              1,
              "#f0f921"
             ]
            ],
            "type": "histogram2dcontour"
           }
          ],
          "mesh3d": [
           {
            "colorbar": {
             "outlinewidth": 0,
             "ticks": ""
            },
            "type": "mesh3d"
           }
          ],
          "parcoords": [
           {
            "line": {
             "colorbar": {
              "outlinewidth": 0,
              "ticks": ""
             }
            },
            "type": "parcoords"
           }
          ],
          "pie": [
           {
            "automargin": true,
            "type": "pie"
           }
          ],
          "scatter": [
           {
            "marker": {
             "colorbar": {
              "outlinewidth": 0,
              "ticks": ""
             }
            },
            "type": "scatter"
           }
          ],
          "scatter3d": [
           {
            "line": {
             "colorbar": {
              "outlinewidth": 0,
              "ticks": ""
             }
            },
            "marker": {
             "colorbar": {
              "outlinewidth": 0,
              "ticks": ""
             }
            },
            "type": "scatter3d"
           }
          ],
          "scattercarpet": [
           {
            "marker": {
             "colorbar": {
              "outlinewidth": 0,
              "ticks": ""
             }
            },
            "type": "scattercarpet"
           }
          ],
          "scattergeo": [
           {
            "marker": {
             "colorbar": {
              "outlinewidth": 0,
              "ticks": ""
             }
            },
            "type": "scattergeo"
           }
          ],
          "scattergl": [
           {
            "marker": {
             "colorbar": {
              "outlinewidth": 0,
              "ticks": ""
             }
            },
            "type": "scattergl"
           }
          ],
          "scattermapbox": [
           {
            "marker": {
             "colorbar": {
              "outlinewidth": 0,
              "ticks": ""
             }
            },
            "type": "scattermapbox"
           }
          ],
          "scatterpolar": [
           {
            "marker": {
             "colorbar": {
              "outlinewidth": 0,
              "ticks": ""
             }
            },
            "type": "scatterpolar"
           }
          ],
          "scatterpolargl": [
           {
            "marker": {
             "colorbar": {
              "outlinewidth": 0,
              "ticks": ""
             }
            },
            "type": "scatterpolargl"
           }
          ],
          "scatterternary": [
           {
            "marker": {
             "colorbar": {
              "outlinewidth": 0,
              "ticks": ""
             }
            },
            "type": "scatterternary"
           }
          ],
          "surface": [
           {
            "colorbar": {
             "outlinewidth": 0,
             "ticks": ""
            },
            "colorscale": [
             [
              0,
              "#0d0887"
             ],
             [
              0.1111111111111111,
              "#46039f"
             ],
             [
              0.2222222222222222,
              "#7201a8"
             ],
             [
              0.3333333333333333,
              "#9c179e"
             ],
             [
              0.4444444444444444,
              "#bd3786"
             ],
             [
              0.5555555555555556,
              "#d8576b"
             ],
             [
              0.6666666666666666,
              "#ed7953"
             ],
             [
              0.7777777777777778,
              "#fb9f3a"
             ],
             [
              0.8888888888888888,
              "#fdca26"
             ],
             [
              1,
              "#f0f921"
             ]
            ],
            "type": "surface"
           }
          ],
          "table": [
           {
            "cells": {
             "fill": {
              "color": "#EBF0F8"
             },
             "line": {
              "color": "white"
             }
            },
            "header": {
             "fill": {
              "color": "#C8D4E3"
             },
             "line": {
              "color": "white"
             }
            },
            "type": "table"
           }
          ]
         },
         "layout": {
          "annotationdefaults": {
           "arrowcolor": "#2a3f5f",
           "arrowhead": 0,
           "arrowwidth": 1
          },
          "coloraxis": {
           "colorbar": {
            "outlinewidth": 0,
            "ticks": ""
           }
          },
          "colorscale": {
           "diverging": [
            [
             0,
             "#8e0152"
            ],
            [
             0.1,
             "#c51b7d"
            ],
            [
             0.2,
             "#de77ae"
            ],
            [
             0.3,
             "#f1b6da"
            ],
            [
             0.4,
             "#fde0ef"
            ],
            [
             0.5,
             "#f7f7f7"
            ],
            [
             0.6,
             "#e6f5d0"
            ],
            [
             0.7,
             "#b8e186"
            ],
            [
             0.8,
             "#7fbc41"
            ],
            [
             0.9,
             "#4d9221"
            ],
            [
             1,
             "#276419"
            ]
           ],
           "sequential": [
            [
             0,
             "#0d0887"
            ],
            [
             0.1111111111111111,
             "#46039f"
            ],
            [
             0.2222222222222222,
             "#7201a8"
            ],
            [
             0.3333333333333333,
             "#9c179e"
            ],
            [
             0.4444444444444444,
             "#bd3786"
            ],
            [
             0.5555555555555556,
             "#d8576b"
            ],
            [
             0.6666666666666666,
             "#ed7953"
            ],
            [
             0.7777777777777778,
             "#fb9f3a"
            ],
            [
             0.8888888888888888,
             "#fdca26"
            ],
            [
             1,
             "#f0f921"
            ]
           ],
           "sequentialminus": [
            [
             0,
             "#0d0887"
            ],
            [
             0.1111111111111111,
             "#46039f"
            ],
            [
             0.2222222222222222,
             "#7201a8"
            ],
            [
             0.3333333333333333,
             "#9c179e"
            ],
            [
             0.4444444444444444,
             "#bd3786"
            ],
            [
             0.5555555555555556,
             "#d8576b"
            ],
            [
             0.6666666666666666,
             "#ed7953"
            ],
            [
             0.7777777777777778,
             "#fb9f3a"
            ],
            [
             0.8888888888888888,
             "#fdca26"
            ],
            [
             1,
             "#f0f921"
            ]
           ]
          },
          "colorway": [
           "#636efa",
           "#EF553B",
           "#00cc96",
           "#ab63fa",
           "#FFA15A",
           "#19d3f3",
           "#FF6692",
           "#B6E880",
           "#FF97FF",
           "#FECB52"
          ],
          "font": {
           "color": "#2a3f5f"
          },
          "geo": {
           "bgcolor": "white",
           "lakecolor": "white",
           "landcolor": "#E5ECF6",
           "showlakes": true,
           "showland": true,
           "subunitcolor": "white"
          },
          "hoverlabel": {
           "align": "left"
          },
          "hovermode": "closest",
          "mapbox": {
           "style": "light"
          },
          "paper_bgcolor": "white",
          "plot_bgcolor": "#E5ECF6",
          "polar": {
           "angularaxis": {
            "gridcolor": "white",
            "linecolor": "white",
            "ticks": ""
           },
           "bgcolor": "#E5ECF6",
           "radialaxis": {
            "gridcolor": "white",
            "linecolor": "white",
            "ticks": ""
           }
          },
          "scene": {
           "xaxis": {
            "backgroundcolor": "#E5ECF6",
            "gridcolor": "white",
            "gridwidth": 2,
            "linecolor": "white",
            "showbackground": true,
            "ticks": "",
            "zerolinecolor": "white"
           },
           "yaxis": {
            "backgroundcolor": "#E5ECF6",
            "gridcolor": "white",
            "gridwidth": 2,
            "linecolor": "white",
            "showbackground": true,
            "ticks": "",
            "zerolinecolor": "white"
           },
           "zaxis": {
            "backgroundcolor": "#E5ECF6",
            "gridcolor": "white",
            "gridwidth": 2,
            "linecolor": "white",
            "showbackground": true,
            "ticks": "",
            "zerolinecolor": "white"
           }
          },
          "shapedefaults": {
           "line": {
            "color": "#2a3f5f"
           }
          },
          "ternary": {
           "aaxis": {
            "gridcolor": "white",
            "linecolor": "white",
            "ticks": ""
           },
           "baxis": {
            "gridcolor": "white",
            "linecolor": "white",
            "ticks": ""
           },
           "bgcolor": "#E5ECF6",
           "caxis": {
            "gridcolor": "white",
            "linecolor": "white",
            "ticks": ""
           }
          },
          "title": {
           "x": 0.05
          },
          "xaxis": {
           "automargin": true,
           "gridcolor": "white",
           "linecolor": "white",
           "ticks": "",
           "title": {
            "standoff": 15
           },
           "zerolinecolor": "white",
           "zerolinewidth": 2
          },
          "yaxis": {
           "automargin": true,
           "gridcolor": "white",
           "linecolor": "white",
           "ticks": "",
           "title": {
            "standoff": 15
           },
           "zerolinecolor": "white",
           "zerolinewidth": 2
          }
         }
        }
       }
      },
      "text/html": [
       "<div>\n",
       "        \n",
       "        \n",
       "            <div id=\"e6900695-86f9-4fe3-b0d5-ca2dc1bc4757\" class=\"plotly-graph-div\" style=\"height:525px; width:100%;\"></div>\n",
       "            <script type=\"text/javascript\">\n",
       "                require([\"plotly\"], function(Plotly) {\n",
       "                    window.PLOTLYENV=window.PLOTLYENV || {};\n",
       "                    \n",
       "                if (document.getElementById(\"e6900695-86f9-4fe3-b0d5-ca2dc1bc4757\")) {\n",
       "                    Plotly.newPlot(\n",
       "                        'e6900695-86f9-4fe3-b0d5-ca2dc1bc4757',\n",
       "                        [{\"name\": \"Data\", \"showlegend\": true, \"type\": \"scatter\", \"x\": [\"2006-12-24T22:05:00\", \"2006-12-24T22:04:00\", \"2006-12-24T22:03:00\", \"2006-12-24T22:02:00\", \"2006-12-24T22:01:00\", \"2006-12-24T22:00:00\", \"2006-12-24T21:59:00\", \"2006-12-24T21:58:00\", \"2006-12-24T21:57:00\", \"2006-12-24T21:56:00\", \"2006-12-24T21:55:00\", \"2006-12-24T21:54:00\", \"2006-12-24T21:53:00\", \"2006-12-24T21:52:00\", \"2006-12-24T21:51:00\", \"2006-12-24T21:50:00\", \"2006-12-24T21:49:00\", \"2006-12-24T21:48:00\", \"2006-12-24T21:47:00\", \"2006-12-24T21:46:00\", \"2006-12-24T21:45:00\", \"2006-12-24T21:44:00\", \"2006-12-24T21:43:00\", \"2006-12-24T21:42:00\", \"2006-12-24T21:41:00\", \"2006-12-24T21:40:00\", \"2006-12-24T21:39:00\", \"2006-12-24T21:38:00\", \"2006-12-24T21:37:00\", \"2006-12-24T21:36:00\", \"2006-12-24T21:35:00\", \"2006-12-24T21:34:00\", \"2006-12-24T21:33:00\", \"2006-12-24T21:32:00\", \"2006-12-24T21:31:00\", \"2006-12-24T21:30:00\", \"2006-12-24T21:29:00\", \"2006-12-24T21:28:00\", \"2006-12-24T21:27:00\", \"2006-12-24T21:26:00\", \"2006-12-24T21:25:00\", \"2006-12-24T21:24:00\", \"2006-12-24T21:23:00\", \"2006-12-24T21:22:00\", \"2006-12-24T21:21:00\", \"2006-12-24T21:20:00\", \"2006-12-24T21:19:00\", \"2006-12-24T21:18:00\", \"2006-12-24T21:17:00\", \"2006-12-24T21:16:00\", \"2006-12-24T21:15:00\", \"2006-12-24T21:14:00\", \"2006-12-24T21:13:00\", \"2006-12-24T21:12:00\", \"2006-12-24T21:11:00\", \"2006-12-24T21:10:00\", \"2006-12-24T21:09:00\", \"2006-12-24T21:08:00\", \"2006-12-24T21:07:00\", \"2006-12-24T21:06:00\", \"2006-12-24T21:05:00\", \"2006-12-24T21:04:00\", \"2006-12-24T21:03:00\", \"2006-12-24T21:02:00\", \"2006-12-24T21:01:00\", \"2006-12-24T21:00:00\", \"2006-12-24T20:59:00\", \"2006-12-24T20:58:00\", \"2006-12-24T20:57:00\", \"2006-12-24T20:56:00\", \"2006-12-24T20:55:00\", \"2006-12-24T20:54:00\", \"2006-12-24T20:53:00\", \"2006-12-24T20:52:00\", \"2006-12-24T20:51:00\", \"2006-12-24T20:50:00\", \"2006-12-24T20:49:00\", \"2006-12-24T20:48:00\", \"2006-12-24T20:47:00\", \"2006-12-24T20:46:00\", \"2006-12-24T20:45:00\", \"2006-12-24T20:44:00\", \"2006-12-24T20:43:00\", \"2006-12-24T20:42:00\", \"2006-12-24T20:41:00\", \"2006-12-24T20:40:00\", \"2006-12-24T20:39:00\", \"2006-12-24T20:38:00\", \"2006-12-24T20:37:00\", \"2006-12-24T20:36:00\", \"2006-12-24T20:35:00\", \"2006-12-24T20:34:00\", \"2006-12-24T20:33:00\", \"2006-12-24T20:32:00\", \"2006-12-24T20:31:00\", \"2006-12-24T20:30:00\", \"2006-12-24T20:29:00\", \"2006-12-24T20:28:00\", \"2006-12-24T20:27:00\", \"2006-12-24T20:26:00\"], \"y\": [0.5336078179306575, 0.5335754238893914, 0.5308983171822489, 0.5372101499798977, 0.5369268713556855, 0.5285451641134443, 0.5439464218302263, 0.4633944592973149, 0.45262107140983027, 0.4530608692473021, 0.4571316519255769, 0.4882276929205076, 0.47916668665497436, 0.45463939679421084, 0.4571316519255769, 0.45921200351093755, 0.473762270900661, 0.4675993276031135, 0.46105198647966955, 0.4591302171962325, 0.44885244441410493, 0.45765484173307963, 0.4540963853019787, 0.4530608692473021, 0.45102930224798654, 0.4500677235801302, 0.45595825504557064, 0.45336626673586194, 0.45921200351093755, 0.4571316519255769, 0.46652714370214154, 0.45509065078479444, 0.4579643582333624, 0.45509065078479444, 0.45194966287155697, 0.45906227199561067, 0.5390005842299366, 0.5435505683889802, 0.5498092102343974, 0.5745312180587084, 0.7367108028595615, 0.6507503953312426, 0.6479800587852427, 0.6716490612168192, 0.6490328829905371, 0.5345157401710254, 0.5351278993953631, 0.5366712337276295, 0.6384309015503568, 0.48859520015674385, 0.4927406543254563, 0.5449092153996944, 0.48810614148715703, 0.557863541802414, 0.504868008488673, 0.4940240935904065, 0.5415111366802792, 0.4906883026783189, 0.5388004141999138, 0.4935528545894753, 0.4942863401621843, 0.5554660590991464, 0.5049000916526969, 0.47464072399030205, 0.45640979366238743, 0.4786582727898533, 0.4640934103786818, 0.4745243420297827, 0.45540400562619954, 0.4562645481649351, 0.4639678379312021, 0.45238644588962235, 0.4528841858087997, 0.45247615668898455, 0.45403235669947006, 0.455535132235996, 0.4556452038114395, 0.4569958309024119, 0.46027861330151354, 0.45623212016779346, 0.5338915136900273, 0.48220482695631844, 0.4813778356048323, 0.4801501299487085, 0.47638147178292906, 0.46557751673241216, 0.466278772414632, 0.46923372631970106, 0.46557751673241216, 0.5648497803981934, 0.45245351328039335, 0.4560007874696499, 0.4560007874696499, 0.45682197987021206, 0.46414236944977144, 0.4536354935615691, 0.4638486553518883, 0.4630385102629159, 0.4540494283190036, 0.4531017391871563]}, {\"name\": \"Data2\", \"showlegend\": true, \"type\": \"scatter\", \"x\": [\"2006-12-24T22:05:00\", \"2006-12-24T22:04:00\", \"2006-12-24T22:03:00\", \"2006-12-24T22:02:00\", \"2006-12-24T22:01:00\", \"2006-12-24T22:00:00\", \"2006-12-24T21:59:00\", \"2006-12-24T21:58:00\", \"2006-12-24T21:57:00\", \"2006-12-24T21:56:00\", \"2006-12-24T21:55:00\", \"2006-12-24T21:54:00\", \"2006-12-24T21:53:00\", \"2006-12-24T21:52:00\", \"2006-12-24T21:51:00\", \"2006-12-24T21:50:00\", \"2006-12-24T21:49:00\", \"2006-12-24T21:48:00\", \"2006-12-24T21:47:00\", \"2006-12-24T21:46:00\", \"2006-12-24T21:45:00\", \"2006-12-24T21:44:00\", \"2006-12-24T21:43:00\", \"2006-12-24T21:42:00\", \"2006-12-24T21:41:00\", \"2006-12-24T21:40:00\", \"2006-12-24T21:39:00\", \"2006-12-24T21:38:00\", \"2006-12-24T21:37:00\", \"2006-12-24T21:36:00\", \"2006-12-24T21:35:00\", \"2006-12-24T21:34:00\", \"2006-12-24T21:33:00\", \"2006-12-24T21:32:00\", \"2006-12-24T21:31:00\", \"2006-12-24T21:30:00\", \"2006-12-24T21:29:00\", \"2006-12-24T21:28:00\", \"2006-12-24T21:27:00\", \"2006-12-24T21:26:00\", \"2006-12-24T21:25:00\", \"2006-12-24T21:24:00\", \"2006-12-24T21:23:00\", \"2006-12-24T21:22:00\", \"2006-12-24T21:21:00\", \"2006-12-24T21:20:00\", \"2006-12-24T21:19:00\", \"2006-12-24T21:18:00\", \"2006-12-24T21:17:00\", \"2006-12-24T21:16:00\", \"2006-12-24T21:15:00\", \"2006-12-24T21:14:00\", \"2006-12-24T21:13:00\", \"2006-12-24T21:12:00\", \"2006-12-24T21:11:00\", \"2006-12-24T21:10:00\", \"2006-12-24T21:09:00\", \"2006-12-24T21:08:00\", \"2006-12-24T21:07:00\", \"2006-12-24T21:06:00\", \"2006-12-24T21:05:00\", \"2006-12-24T21:04:00\", \"2006-12-24T21:03:00\", \"2006-12-24T21:02:00\", \"2006-12-24T21:01:00\", \"2006-12-24T21:00:00\", \"2006-12-24T20:59:00\", \"2006-12-24T20:58:00\", \"2006-12-24T20:57:00\", \"2006-12-24T20:56:00\", \"2006-12-24T20:55:00\", \"2006-12-24T20:54:00\", \"2006-12-24T20:53:00\", \"2006-12-24T20:52:00\", \"2006-12-24T20:51:00\", \"2006-12-24T20:50:00\", \"2006-12-24T20:49:00\", \"2006-12-24T20:48:00\", \"2006-12-24T20:47:00\", \"2006-12-24T20:46:00\", \"2006-12-24T20:45:00\", \"2006-12-24T20:44:00\", \"2006-12-24T20:43:00\", \"2006-12-24T20:42:00\", \"2006-12-24T20:41:00\", \"2006-12-24T20:40:00\", \"2006-12-24T20:39:00\", \"2006-12-24T20:38:00\", \"2006-12-24T20:37:00\", \"2006-12-24T20:36:00\", \"2006-12-24T20:35:00\", \"2006-12-24T20:34:00\", \"2006-12-24T20:33:00\", \"2006-12-24T20:32:00\", \"2006-12-24T20:31:00\", \"2006-12-24T20:30:00\", \"2006-12-24T20:29:00\", \"2006-12-24T20:28:00\", \"2006-12-24T20:27:00\", \"2006-12-24T20:26:00\"], \"y\": [0.5336078179306575, 0.5335754238893914, 0.5308983171822489, 0.5372101499798977, 0.5369268713556855, 0.5285451641134443, 0.5439464218302263, 0.4633944592973149, 0.45262107140983027, 0.4530608692473021, 0.4571316519255769, 0.4882276929205076, 0.47916668665497436, 0.45463939679421084, 0.4571316519255769, 0.45921200351093755, 0.473762270900661, 0.4675993276031135, 0.46105198647966955, 0.4591302171962325, 0.44885244441410493, 0.45765484173307963, 0.4540963853019787, 0.4530608692473021, 0.45102930224798654, 0.4500677235801302, 0.45595825504557064, 0.45336626673586194, 0.45921200351093755, 0.4571316519255769, 0.46652714370214154, 0.45509065078479444, 0.4579643582333624, 0.45509065078479444, 0.45194966287155697, 0.45906227199561067, 0.5390005842299366, 0.5435505683889802, 0.5498092102343974, 0.5745312180587084, 0.7367108028595615, 0.6507503953312426, 0.6479800587852427, 0.6716490612168192, 0.6490328829905371, 0.5345157401710254, 0.5351278993953631, 0.5366712337276295, 0.6384309015503568, 0.48859520015674385, 0.4927406543254563, 0.5449092153996944, 0.48810614148715703, 0.557863541802414, 0.504868008488673, 0.4940240935904065, 0.5415111366802792, 0.4906883026783189, 0.5388004141999138, 0.4935528545894753, 0.4942863401621843, 0.5554660590991464, 0.5049000916526969, 0.47464072399030205, 0.45640979366238743, 0.4786582727898533, 0.4640934103786818, 0.4745243420297827, 0.45540400562619954, 0.4562645481649351, 0.4639678379312021, 0.45238644588962235, 0.4528841858087997, 0.45247615668898455, 0.45403235669947006, 0.455535132235996, 0.4556452038114395, 0.4569958309024119, 0.46027861330151354, 0.45623212016779346, 0.5338915136900273, 0.48220482695631844, 0.4813778356048323, 0.4801501299487085, 0.47638147178292906, 0.46557751673241216, 0.466278772414632, 0.46923372631970106, 0.46557751673241216, 0.5648497803981934, 0.45245351328039335, 0.4560007874696499, 0.4560007874696499, 0.45682197987021206, 0.46414236944977144, 0.4536354935615691, 0.4638486553518883, 0.4630385102629159, 0.4540494283190036, 0.4531017391871563]}, {\"marker\": {\"color\": \"red\", \"line\": {\"color\": \"red\", \"width\": 2}, \"size\": 11}, \"mode\": \"markers\", \"name\": \"Anomaly\", \"showlegend\": true, \"type\": \"scatter\", \"x\": [\"2006-12-24T21:26:00\", \"2006-12-24T21:25:00\", \"2006-12-24T21:24:00\", \"2006-12-24T21:23:00\", \"2006-12-24T21:22:00\", \"2006-12-24T21:21:00\", \"2006-12-24T21:17:00\", \"2006-12-24T21:12:00\", \"2006-12-24T21:04:00\", \"2006-12-24T20:36:00\"], \"y\": [0.5745312180587084, 0.7367108028595615, 0.6507503953312426, 0.6479800587852427, 0.6716490612168192, 0.6490328829905371, 0.6384309015503568, 0.557863541802414, 0.5554660590991464, 0.5648497803981934]}],\n",
       "                        {\"template\": {\"data\": {\"bar\": [{\"error_x\": {\"color\": \"#2a3f5f\"}, \"error_y\": {\"color\": \"#2a3f5f\"}, \"marker\": {\"line\": {\"color\": \"#E5ECF6\", \"width\": 0.5}}, \"type\": \"bar\"}], \"barpolar\": [{\"marker\": {\"line\": {\"color\": \"#E5ECF6\", \"width\": 0.5}}, \"type\": \"barpolar\"}], \"carpet\": [{\"aaxis\": {\"endlinecolor\": \"#2a3f5f\", \"gridcolor\": \"white\", \"linecolor\": \"white\", \"minorgridcolor\": \"white\", \"startlinecolor\": \"#2a3f5f\"}, \"baxis\": {\"endlinecolor\": \"#2a3f5f\", \"gridcolor\": \"white\", \"linecolor\": \"white\", \"minorgridcolor\": \"white\", \"startlinecolor\": \"#2a3f5f\"}, \"type\": \"carpet\"}], \"choropleth\": [{\"colorbar\": {\"outlinewidth\": 0, \"ticks\": \"\"}, \"type\": \"choropleth\"}], \"contour\": [{\"colorbar\": {\"outlinewidth\": 0, \"ticks\": \"\"}, \"colorscale\": [[0.0, \"#0d0887\"], [0.1111111111111111, \"#46039f\"], [0.2222222222222222, \"#7201a8\"], [0.3333333333333333, \"#9c179e\"], [0.4444444444444444, \"#bd3786\"], [0.5555555555555556, \"#d8576b\"], [0.6666666666666666, \"#ed7953\"], [0.7777777777777778, \"#fb9f3a\"], [0.8888888888888888, \"#fdca26\"], [1.0, \"#f0f921\"]], \"type\": \"contour\"}], \"contourcarpet\": [{\"colorbar\": {\"outlinewidth\": 0, \"ticks\": \"\"}, \"type\": \"contourcarpet\"}], \"heatmap\": [{\"colorbar\": {\"outlinewidth\": 0, \"ticks\": \"\"}, \"colorscale\": [[0.0, \"#0d0887\"], [0.1111111111111111, \"#46039f\"], [0.2222222222222222, \"#7201a8\"], [0.3333333333333333, \"#9c179e\"], [0.4444444444444444, \"#bd3786\"], [0.5555555555555556, \"#d8576b\"], [0.6666666666666666, \"#ed7953\"], [0.7777777777777778, \"#fb9f3a\"], [0.8888888888888888, \"#fdca26\"], [1.0, \"#f0f921\"]], \"type\": \"heatmap\"}], \"heatmapgl\": [{\"colorbar\": {\"outlinewidth\": 0, \"ticks\": \"\"}, \"colorscale\": [[0.0, \"#0d0887\"], [0.1111111111111111, \"#46039f\"], [0.2222222222222222, \"#7201a8\"], [0.3333333333333333, \"#9c179e\"], [0.4444444444444444, \"#bd3786\"], [0.5555555555555556, \"#d8576b\"], [0.6666666666666666, \"#ed7953\"], [0.7777777777777778, \"#fb9f3a\"], [0.8888888888888888, \"#fdca26\"], [1.0, \"#f0f921\"]], \"type\": \"heatmapgl\"}], \"histogram\": [{\"marker\": {\"colorbar\": {\"outlinewidth\": 0, \"ticks\": \"\"}}, \"type\": \"histogram\"}], \"histogram2d\": [{\"colorbar\": {\"outlinewidth\": 0, \"ticks\": \"\"}, \"colorscale\": [[0.0, \"#0d0887\"], [0.1111111111111111, \"#46039f\"], [0.2222222222222222, \"#7201a8\"], [0.3333333333333333, \"#9c179e\"], [0.4444444444444444, \"#bd3786\"], [0.5555555555555556, \"#d8576b\"], [0.6666666666666666, \"#ed7953\"], [0.7777777777777778, \"#fb9f3a\"], [0.8888888888888888, \"#fdca26\"], [1.0, \"#f0f921\"]], \"type\": \"histogram2d\"}], \"histogram2dcontour\": [{\"colorbar\": {\"outlinewidth\": 0, \"ticks\": \"\"}, \"colorscale\": [[0.0, \"#0d0887\"], [0.1111111111111111, \"#46039f\"], [0.2222222222222222, \"#7201a8\"], [0.3333333333333333, \"#9c179e\"], [0.4444444444444444, \"#bd3786\"], [0.5555555555555556, \"#d8576b\"], [0.6666666666666666, \"#ed7953\"], [0.7777777777777778, \"#fb9f3a\"], [0.8888888888888888, \"#fdca26\"], [1.0, \"#f0f921\"]], \"type\": \"histogram2dcontour\"}], \"mesh3d\": [{\"colorbar\": {\"outlinewidth\": 0, \"ticks\": \"\"}, \"type\": \"mesh3d\"}], \"parcoords\": [{\"line\": {\"colorbar\": {\"outlinewidth\": 0, \"ticks\": \"\"}}, \"type\": \"parcoords\"}], \"pie\": [{\"automargin\": true, \"type\": \"pie\"}], \"scatter\": [{\"marker\": {\"colorbar\": {\"outlinewidth\": 0, \"ticks\": \"\"}}, \"type\": \"scatter\"}], \"scatter3d\": [{\"line\": {\"colorbar\": {\"outlinewidth\": 0, \"ticks\": \"\"}}, \"marker\": {\"colorbar\": {\"outlinewidth\": 0, \"ticks\": \"\"}}, \"type\": \"scatter3d\"}], \"scattercarpet\": [{\"marker\": {\"colorbar\": {\"outlinewidth\": 0, \"ticks\": \"\"}}, \"type\": \"scattercarpet\"}], \"scattergeo\": [{\"marker\": {\"colorbar\": {\"outlinewidth\": 0, \"ticks\": \"\"}}, \"type\": \"scattergeo\"}], \"scattergl\": [{\"marker\": {\"colorbar\": {\"outlinewidth\": 0, \"ticks\": \"\"}}, \"type\": \"scattergl\"}], \"scattermapbox\": [{\"marker\": {\"colorbar\": {\"outlinewidth\": 0, \"ticks\": \"\"}}, \"type\": \"scattermapbox\"}], \"scatterpolar\": [{\"marker\": {\"colorbar\": {\"outlinewidth\": 0, \"ticks\": \"\"}}, \"type\": \"scatterpolar\"}], \"scatterpolargl\": [{\"marker\": {\"colorbar\": {\"outlinewidth\": 0, \"ticks\": \"\"}}, \"type\": \"scatterpolargl\"}], \"scatterternary\": [{\"marker\": {\"colorbar\": {\"outlinewidth\": 0, \"ticks\": \"\"}}, \"type\": \"scatterternary\"}], \"surface\": [{\"colorbar\": {\"outlinewidth\": 0, \"ticks\": \"\"}, \"colorscale\": [[0.0, \"#0d0887\"], [0.1111111111111111, \"#46039f\"], [0.2222222222222222, \"#7201a8\"], [0.3333333333333333, \"#9c179e\"], [0.4444444444444444, \"#bd3786\"], [0.5555555555555556, \"#d8576b\"], [0.6666666666666666, \"#ed7953\"], [0.7777777777777778, \"#fb9f3a\"], [0.8888888888888888, \"#fdca26\"], [1.0, \"#f0f921\"]], \"type\": \"surface\"}], \"table\": [{\"cells\": {\"fill\": {\"color\": \"#EBF0F8\"}, \"line\": {\"color\": \"white\"}}, \"header\": {\"fill\": {\"color\": \"#C8D4E3\"}, \"line\": {\"color\": \"white\"}}, \"type\": \"table\"}]}, \"layout\": {\"annotationdefaults\": {\"arrowcolor\": \"#2a3f5f\", \"arrowhead\": 0, \"arrowwidth\": 1}, \"coloraxis\": {\"colorbar\": {\"outlinewidth\": 0, \"ticks\": \"\"}}, \"colorscale\": {\"diverging\": [[0, \"#8e0152\"], [0.1, \"#c51b7d\"], [0.2, \"#de77ae\"], [0.3, \"#f1b6da\"], [0.4, \"#fde0ef\"], [0.5, \"#f7f7f7\"], [0.6, \"#e6f5d0\"], [0.7, \"#b8e186\"], [0.8, \"#7fbc41\"], [0.9, \"#4d9221\"], [1, \"#276419\"]], \"sequential\": [[0.0, \"#0d0887\"], [0.1111111111111111, \"#46039f\"], [0.2222222222222222, \"#7201a8\"], [0.3333333333333333, \"#9c179e\"], [0.4444444444444444, \"#bd3786\"], [0.5555555555555556, \"#d8576b\"], [0.6666666666666666, \"#ed7953\"], [0.7777777777777778, \"#fb9f3a\"], [0.8888888888888888, \"#fdca26\"], [1.0, \"#f0f921\"]], \"sequentialminus\": [[0.0, \"#0d0887\"], [0.1111111111111111, \"#46039f\"], [0.2222222222222222, \"#7201a8\"], [0.3333333333333333, \"#9c179e\"], [0.4444444444444444, \"#bd3786\"], [0.5555555555555556, \"#d8576b\"], [0.6666666666666666, \"#ed7953\"], [0.7777777777777778, \"#fb9f3a\"], [0.8888888888888888, \"#fdca26\"], [1.0, \"#f0f921\"]]}, \"colorway\": [\"#636efa\", \"#EF553B\", \"#00cc96\", \"#ab63fa\", \"#FFA15A\", \"#19d3f3\", \"#FF6692\", \"#B6E880\", \"#FF97FF\", \"#FECB52\"], \"font\": {\"color\": \"#2a3f5f\"}, \"geo\": {\"bgcolor\": \"white\", \"lakecolor\": \"white\", \"landcolor\": \"#E5ECF6\", \"showlakes\": true, \"showland\": true, \"subunitcolor\": \"white\"}, \"hoverlabel\": {\"align\": \"left\"}, \"hovermode\": \"closest\", \"mapbox\": {\"style\": \"light\"}, \"paper_bgcolor\": \"white\", \"plot_bgcolor\": \"#E5ECF6\", \"polar\": {\"angularaxis\": {\"gridcolor\": \"white\", \"linecolor\": \"white\", \"ticks\": \"\"}, \"bgcolor\": \"#E5ECF6\", \"radialaxis\": {\"gridcolor\": \"white\", \"linecolor\": \"white\", \"ticks\": \"\"}}, \"scene\": {\"xaxis\": {\"backgroundcolor\": \"#E5ECF6\", \"gridcolor\": \"white\", \"gridwidth\": 2, \"linecolor\": \"white\", \"showbackground\": true, \"ticks\": \"\", \"zerolinecolor\": \"white\"}, \"yaxis\": {\"backgroundcolor\": \"#E5ECF6\", \"gridcolor\": \"white\", \"gridwidth\": 2, \"linecolor\": \"white\", \"showbackground\": true, \"ticks\": \"\", \"zerolinecolor\": \"white\"}, \"zaxis\": {\"backgroundcolor\": \"#E5ECF6\", \"gridcolor\": \"white\", \"gridwidth\": 2, \"linecolor\": \"white\", \"showbackground\": true, \"ticks\": \"\", \"zerolinecolor\": \"white\"}}, \"shapedefaults\": {\"line\": {\"color\": \"#2a3f5f\"}}, \"ternary\": {\"aaxis\": {\"gridcolor\": \"white\", \"linecolor\": \"white\", \"ticks\": \"\"}, \"baxis\": {\"gridcolor\": \"white\", \"linecolor\": \"white\", \"ticks\": \"\"}, \"bgcolor\": \"#E5ECF6\", \"caxis\": {\"gridcolor\": \"white\", \"linecolor\": \"white\", \"ticks\": \"\"}}, \"title\": {\"x\": 0.05}, \"xaxis\": {\"automargin\": true, \"gridcolor\": \"white\", \"linecolor\": \"white\", \"ticks\": \"\", \"title\": {\"standoff\": 15}, \"zerolinecolor\": \"white\", \"zerolinewidth\": 2}, \"yaxis\": {\"automargin\": true, \"gridcolor\": \"white\", \"linecolor\": \"white\", \"ticks\": \"\", \"title\": {\"standoff\": 15}, \"zerolinecolor\": \"white\", \"zerolinewidth\": 2}}}},\n",
       "                        {\"responsive\": true}\n",
       "                    ).then(function(){\n",
       "                            \n",
       "var gd = document.getElementById('e6900695-86f9-4fe3-b0d5-ca2dc1bc4757');\n",
       "var x = new MutationObserver(function (mutations, observer) {{\n",
       "        var display = window.getComputedStyle(gd).display;\n",
       "        if (!display || display === 'none') {{\n",
       "            console.log([gd, 'removed!']);\n",
       "            Plotly.purge(gd);\n",
       "            observer.disconnect();\n",
       "        }}\n",
       "}});\n",
       "\n",
       "// Listen for the removal of the full notebook cells\n",
       "var notebookContainer = gd.closest('#notebook-container');\n",
       "if (notebookContainer) {{\n",
       "    x.observe(notebookContainer, {childList: true});\n",
       "}}\n",
       "\n",
       "// Listen for the clearing of the current output cell\n",
       "var outputEl = gd.closest('.output');\n",
       "if (outputEl) {{\n",
       "    x.observe(outputEl, {childList: true});\n",
       "}}\n",
       "\n",
       "                        })\n",
       "                };\n",
       "                });\n",
       "            </script>\n",
       "        </div>"
      ]
     },
     "metadata": {},
     "output_type": "display_data"
    }
   ],
   "source": [
    "### Plots ########\n",
    "\n",
    "from plotly.offline import download_plotlyjs, init_notebook_mode, plot, iplot\n",
    "# import matplotlib.pyplot as plt\n",
    "# from matplotlib import pyplot\n",
    "import plotly.graph_objects as go\n",
    "\n",
    "plot_data=go.Scatter(name='Data',showlegend=True,x=date_time_list, y=anomalyScores_list)\n",
    "plot_data2=go.Scatter(name='Data2',showlegend=True,x=date_time_list, y=anomalyScores_list)\n",
    "\n",
    "anomalies_map = go.Scatter(name=\"Anomaly\",\n",
    "                               showlegend=True,\n",
    "                               x=anomaly_date,\n",
    "                               y=pred_list,\n",
    "                               mode='markers',\n",
    "                               marker=dict(color=\"red\",\n",
    "                                           size=11,\n",
    "                                           line=dict(\n",
    "                                               color=\"red\",\n",
    "                                               width=2)))\n",
    "fig=go.Figure(data=[plot_data,plot_data2,anomalies_map])\n",
    "fig.show()"
   ]
  }
 ],
 "metadata": {
  "hide_input": false,
  "kernelspec": {
   "display_name": "Python 3",
   "language": "python",
   "name": "python3"
  },
  "language_info": {
   "codemirror_mode": {
    "name": "ipython",
    "version": 3
   },
   "file_extension": ".py",
   "mimetype": "text/x-python",
   "name": "python",
   "nbconvert_exporter": "python",
   "pygments_lexer": "ipython3",
   "version": "3.7.3"
  }
 },
 "nbformat": 4,
 "nbformat_minor": 4
}
